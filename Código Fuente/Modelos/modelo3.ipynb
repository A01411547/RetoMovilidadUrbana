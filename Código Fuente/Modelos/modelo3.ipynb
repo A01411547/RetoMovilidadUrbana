{
 "cells": [
  {
   "cell_type": "code",
   "execution_count": 31,
   "id": "5fd5192f",
   "metadata": {},
   "outputs": [],
   "source": [
    "from sklearn.linear_model import LinearRegression\n",
    "from sklearn.metrics import mean_squared_log_error\n",
    "from sklearn.metrics import mean_squared_error\n",
    "import pandas as pd"
   ]
  },
  {
   "cell_type": "code",
   "execution_count": 32,
   "id": "b9769e37",
   "metadata": {},
   "outputs": [],
   "source": [
    "df = pd.read_csv(\"training_dataset3.csv\")"
   ]
  },
  {
   "cell_type": "code",
   "execution_count": 33,
   "id": "f83bef83",
   "metadata": {},
   "outputs": [],
   "source": [
    "X = df[['Num_escuelas',\n",
    " 'Num_hospitales',\n",
    " 'Num_iglesias',\n",
    " 'Num_zonas_tipicas',\n",
    "  \"Hora_llegada_1\",                                          \n",
    "  \"Hora_llegada_2\",\n",
    "  \"Hora_llegada_3\",                                          \n",
    "  \"Hora_llegada_4\",\n",
    "  \"Hora_llegada_5\",                                          \n",
    "  \"Hora_llegada_6\",\n",
    "  \"Hora_llegada_7\",                                          \n",
    "  \"Hora_llegada_8\",\n",
    "  \"Hora_llegada_9\",                                          \n",
    "  \"Hora_llegada_10\",\n",
    "  \"Hora_llegada_11\",                                          \n",
    "  \"Hora_llegada_12\",\n",
    "  \"Hora_llegada_13\",                                          \n",
    "  \"Hora_llegada_14\",\n",
    "  \"Hora_llegada_15\",                                          \n",
    "  \"Hora_llegada_16\",                                         \n",
    "  \"Hora_llegada_17\",                                          \n",
    "  \"Hora_llegada_18\",\n",
    "  \"Hora_llegada_19\",                                          \n",
    "  \"Hora_llegada_20\",\n",
    "  \"Hora_llegada_21\",                                          \n",
    "  \"Hora_llegada_22\",\n",
    "  \"Hora_llegada_23\", ]]\n",
    "\n",
    "y = df[\"Num_viajes\"]"
   ]
  },
  {
   "cell_type": "code",
   "execution_count": 34,
   "id": "0bcc314e",
   "metadata": {},
   "outputs": [],
   "source": [
    "from sklearn.model_selection import train_test_split\n",
    "\n",
    "X_train, X_test, y_train, y_test = train_test_split(\n",
    "    X, y, test_size=0.15, random_state=42)"
   ]
  },
  {
   "cell_type": "code",
   "execution_count": 35,
   "id": "5fb18f04",
   "metadata": {},
   "outputs": [
    {
     "data": {
      "text/plain": [
       "LinearRegression()"
      ]
     },
     "execution_count": 35,
     "metadata": {},
     "output_type": "execute_result"
    }
   ],
   "source": [
    "linear_model = LinearRegression()\n",
    "linear_model.fit(X, y)"
   ]
  },
  {
   "cell_type": "code",
   "execution_count": 36,
   "id": "ee978cc3",
   "metadata": {},
   "outputs": [
    {
     "name": "stdout",
     "output_type": "stream",
     "text": [
      "Linear RMSLE : 1.4166204730039076\n",
      "Linear MAE : 293.0052847818318\n"
     ]
    }
   ],
   "source": [
    "from sklearn.metrics import mean_absolute_error as mae\n",
    "from sklearn.metrics import mean_squared_log_error as msle\n",
    "import numpy as np \n",
    "\n",
    "yfit_linear = pd.DataFrame(linear_model.predict(X_train), index = X_train.index, columns = [\"Num_viajes\"]).clip(0.)\n",
    "\n",
    "ypred_linear = pd.DataFrame(linear_model.predict(X_test), index = X_test.index, columns = [\"Num_viajes\"]).clip(0.)\n",
    "\n",
    "\n",
    "print('Linear RMSLE :', np.sqrt(msle(y_test, ypred_linear)))\n",
    "print('Linear MAE :', mae(y_test, ypred_linear))\n"
   ]
  },
  {
   "cell_type": "code",
   "execution_count": 37,
   "id": "04a9ec83",
   "metadata": {},
   "outputs": [
    {
     "name": "stdout",
     "output_type": "stream",
     "text": [
      "XGBoost mae : 236.23411711577614\n"
     ]
    }
   ],
   "source": [
    "y_train_linear = linear_model.predict(X_train)\n",
    "\n",
    "print('XGBoost mae :', mae(y_train, y_train_linear))\n",
    "#removemos el rmsle porque la regresion lineal produce valores negativos"
   ]
  },
  {
   "cell_type": "markdown",
   "id": "b1916ea5",
   "metadata": {},
   "source": [
    "Con las métricas iniciales, vemos claramente que el modelo representa una mejora sobre las iteraciones previas.\n",
    "\n",
    "Ahora procederemos a evaluar más a fondo la precisión del modelo"
   ]
  },
  {
   "cell_type": "markdown",
   "id": "554e0ab7",
   "metadata": {},
   "source": [
    "# Evaluación del modelo\n",
    "\n",
    "Para evaluar el modelo, revisaremos el % de error utilizando MAE"
   ]
  },
  {
   "cell_type": "markdown",
   "id": "83762f9f",
   "metadata": {},
   "source": [
    "### Training error"
   ]
  },
  {
   "cell_type": "code",
   "execution_count": 38,
   "id": "c63efc56",
   "metadata": {},
   "outputs": [
    {
     "name": "stdout",
     "output_type": "stream",
     "text": [
      "The % of error in training is 64.42699090606142\n"
     ]
    }
   ],
   "source": [
    "dataframe = pd.DataFrame()\n",
    "dataframe['Num_viajes'] = y_train\n",
    "dataframe['Num_viajes_p'] = yfit_linear\n",
    "dataframe['dif'] = abs(dataframe['Num_viajes'] - dataframe['Num_viajes_p'])\n",
    "import math\n",
    "dataframe['Num_viajes_p'] =  dataframe['Num_viajes_p'].apply(lambda x: math.ceil(x))\n",
    "dataframe[\"Dif_perc\"] =  dataframe[\"dif\"] / dataframe[\"Num_viajes\"] *100\n",
    "print(\"The % of error in training is\", dataframe[\"Dif_perc\"].mean())\n"
   ]
  },
  {
   "cell_type": "markdown",
   "id": "7207c244",
   "metadata": {},
   "source": [
    "### Testing error"
   ]
  },
  {
   "cell_type": "code",
   "execution_count": 39,
   "id": "36ff087d",
   "metadata": {},
   "outputs": [
    {
     "name": "stdout",
     "output_type": "stream",
     "text": [
      "The % of error in test is 89.33346484561275\n"
     ]
    }
   ],
   "source": [
    "dataframe = pd.DataFrame()\n",
    "dataframe['Num_viajes'] = y_test\n",
    "dataframe['Num_viajes_p'] = ypred_linear\n",
    "dataframe['dif'] = abs(dataframe['Num_viajes'] - dataframe['Num_viajes_p'])\n",
    "import math\n",
    "dataframe['Num_viajes_p'] =  dataframe['Num_viajes_p'].apply(lambda x: math.ceil(x))\n",
    "dataframe[\"Dif_perc\"] =  dataframe[\"dif\"] / dataframe[\"Num_viajes\"] *100\n",
    "print(\"The % of error in test is\", dataframe[\"Dif_perc\"].mean())\n"
   ]
  },
  {
   "cell_type": "markdown",
   "id": "55004f7b",
   "metadata": {},
   "source": [
    "## Prueba de multicolinearidad"
   ]
  },
  {
   "cell_type": "code",
   "execution_count": 40,
   "id": "4025ccb7",
   "metadata": {},
   "outputs": [
    {
     "name": "stdout",
     "output_type": "stream",
     "text": [
      "              feature        VIF\n",
      "0        Num_escuelas   6.198148\n",
      "1      Num_hospitales  11.858471\n",
      "2        Num_iglesias  20.786950\n",
      "3   Num_zonas_tipicas  28.883405\n",
      "4      Hora_llegada_1   1.105115\n",
      "5      Hora_llegada_2   1.105115\n",
      "6      Hora_llegada_3   1.105115\n",
      "7      Hora_llegada_4   1.105115\n",
      "8      Hora_llegada_5   1.105115\n",
      "9      Hora_llegada_6   1.105115\n",
      "10     Hora_llegada_7   1.105115\n",
      "11     Hora_llegada_8   1.105115\n",
      "12     Hora_llegada_9   1.105115\n",
      "13    Hora_llegada_10   1.105115\n",
      "14    Hora_llegada_11   1.105115\n",
      "15    Hora_llegada_12   1.105115\n",
      "16    Hora_llegada_13   1.105115\n",
      "17    Hora_llegada_14   1.105115\n",
      "18    Hora_llegada_15   1.105115\n",
      "19    Hora_llegada_16   1.105115\n",
      "20    Hora_llegada_17   1.105115\n",
      "21    Hora_llegada_18   1.105115\n",
      "22    Hora_llegada_19   1.105115\n",
      "23    Hora_llegada_20   1.105115\n",
      "24    Hora_llegada_21   1.105115\n",
      "25    Hora_llegada_22   1.105115\n",
      "26    Hora_llegada_23   1.105115\n"
     ]
    }
   ],
   "source": [
    "from statsmodels.stats.outliers_influence import variance_inflation_factor\n",
    "vif_data = pd.DataFrame()\n",
    "\n",
    "df_vif  = X\n",
    "vif_data[\"feature\"] = df_vif.columns\n",
    "  \n",
    "# calculating VIF for each feature\n",
    "vif_data[\"VIF\"] = [variance_inflation_factor(df_vif.values, i)\n",
    "                          for i in range(len(df_vif.columns))]\n",
    "\n",
    "print(vif_data)"
   ]
  },
  {
   "cell_type": "markdown",
   "id": "05382933",
   "metadata": {},
   "source": [
    "## Interpretación"
   ]
  },
  {
   "cell_type": "code",
   "execution_count": 44,
   "id": "6cbae696",
   "metadata": {},
   "outputs": [
    {
     "name": "stdout",
     "output_type": "stream",
     "text": [
      "                            OLS Regression Results                            \n",
      "==============================================================================\n",
      "Dep. Variable:             Num_viajes   R-squared:                       0.733\n",
      "Model:                            OLS   Adj. R-squared:                  0.726\n",
      "Method:                 Least Squares   F-statistic:                     104.7\n",
      "Date:                Wed, 30 Nov 2022   Prob (F-statistic):          4.29e-263\n",
      "Time:                        11:36:43   Log-Likelihood:                -7440.8\n",
      "No. Observations:                1020   AIC:                         1.494e+04\n",
      "Df Residuals:                     993   BIC:                         1.507e+04\n",
      "Df Model:                          26                                         \n",
      "Covariance Type:            nonrobust                                         \n",
      "===================================================================================\n",
      "                      coef    std err          t      P>|t|      [0.025      0.975]\n",
      "-----------------------------------------------------------------------------------\n",
      "const            -467.0549     56.761     -8.229      0.000    -578.439    -355.671\n",
      "Num_escuelas        1.2123      0.063     19.299      0.000       1.089       1.336\n",
      "Num_hospitales     11.5869      1.145     10.122      0.000       9.341      13.833\n",
      "Num_iglesias       36.2051      5.356      6.760      0.000      25.695      46.715\n",
      "Hora_llegada_1    447.6827     76.578      5.846      0.000     297.409     597.956\n",
      "Hora_llegada_2    576.2097     77.515      7.433      0.000     424.097     728.323\n",
      "Hora_llegada_3    324.4209     76.164      4.259      0.000     174.960     473.882\n",
      "Hora_llegada_4    231.7929     78.011      2.971      0.003      78.707     384.879\n",
      "Hora_llegada_5    164.5148     77.030      2.136      0.033      13.354     315.676\n",
      "Hora_llegada_6    221.8801     79.040      2.807      0.005      66.776     376.984\n",
      "Hora_llegada_7    244.0965     77.512      3.149      0.002      91.990     396.203\n",
      "Hora_llegada_8    292.8020     76.147      3.845      0.000     143.375     442.229\n",
      "Hora_llegada_9    329.5438     76.577      4.303      0.000     179.272     479.816\n",
      "Hora_llegada_10   420.7604     79.029      5.324      0.000     265.678     575.843\n",
      "Hora_llegada_11   528.0987     76.576      6.896      0.000     377.829     678.368\n",
      "Hora_llegada_12   720.9997     75.331      9.571      0.000     573.173     868.827\n",
      "Hora_llegada_13   851.1458     75.732     11.239      0.000     702.532     999.760\n",
      "Hora_llegada_14   864.7224     76.576     11.292      0.000     714.453    1014.992\n",
      "Hora_llegada_15   769.4613     79.028      9.737      0.000     614.381     924.542\n",
      "Hora_llegada_16   789.8580     76.576     10.315      0.000     639.589     940.127\n",
      "Hora_llegada_17   855.5233     78.494     10.899      0.000     701.489    1009.557\n",
      "Hora_llegada_18   965.4090     76.578     12.607      0.000     815.136    1115.682\n",
      "Hora_llegada_19  1166.0707     78.509     14.853      0.000    1012.008    1320.134\n",
      "Hora_llegada_20  1433.6723     79.578     18.016      0.000    1277.513    1589.832\n",
      "Hora_llegada_21  1798.9554     78.488     22.920      0.000    1644.934    1952.977\n",
      "Hora_llegada_22  1275.6299     79.064     16.134      0.000    1120.478    1430.781\n",
      "Hora_llegada_23   830.6350     75.742     10.967      0.000     682.003     979.267\n",
      "==============================================================================\n",
      "Omnibus:                      155.202   Durbin-Watson:                   2.027\n",
      "Prob(Omnibus):                  0.000   Jarque-Bera (JB):             1009.578\n",
      "Skew:                           0.509   Prob(JB):                    5.93e-220\n",
      "Kurtosis:                       7.766   Cond. No.                     8.53e+03\n",
      "==============================================================================\n",
      "\n",
      "Notes:\n",
      "[1] Standard Errors assume that the covariance matrix of the errors is correctly specified.\n",
      "[2] The condition number is large, 8.53e+03. This might indicate that there are\n",
      "strong multicollinearity or other numerical problems.\n"
     ]
    }
   ],
   "source": [
    "import statsmodels.api as sm\n",
    "\n",
    "#Eliminamos las variables con VIF superior a 10\n",
    "\n",
    "X = X_train[['Num_escuelas',\n",
    " 'Num_hospitales',\n",
    " 'Num_iglesias',\n",
    "# 'Num_zonas_tipicas',\n",
    "  \"Hora_llegada_1\",                                          \n",
    "  \"Hora_llegada_2\",\n",
    "  \"Hora_llegada_3\",                                          \n",
    "  \"Hora_llegada_4\",\n",
    "  \"Hora_llegada_5\",                                          \n",
    "  \"Hora_llegada_6\",\n",
    "  \"Hora_llegada_7\",                                          \n",
    "  \"Hora_llegada_8\",\n",
    "  \"Hora_llegada_9\",                                          \n",
    "  \"Hora_llegada_10\",\n",
    "  \"Hora_llegada_11\",                                          \n",
    "  \"Hora_llegada_12\",\n",
    "  \"Hora_llegada_13\",                                          \n",
    "  \"Hora_llegada_14\",\n",
    "  \"Hora_llegada_15\",                                          \n",
    "  \"Hora_llegada_16\",                                         \n",
    "  \"Hora_llegada_17\",                                          \n",
    "  \"Hora_llegada_18\",\n",
    "  \"Hora_llegada_19\",                                          \n",
    "  \"Hora_llegada_20\",\n",
    "  \"Hora_llegada_21\",                                          \n",
    "  \"Hora_llegada_22\",\n",
    "  \"Hora_llegada_23\", ]]\n",
    "\n",
    "X = sm.add_constant(X)\n",
    "\n",
    "\n",
    "model = sm.OLS(y_train,X)\n",
    "results = model.fit()\n",
    "print(results.summary())"
   ]
  },
  {
   "cell_type": "markdown",
   "id": "cb17e08a",
   "metadata": {},
   "source": [
    "## Se repite la prueba de multicolinealidad"
   ]
  },
  {
   "cell_type": "code",
   "execution_count": 45,
   "id": "fb9e6b7a",
   "metadata": {},
   "outputs": [
    {
     "name": "stdout",
     "output_type": "stream",
     "text": [
      "            feature        VIF\n",
      "0             const  25.190690\n",
      "1      Num_escuelas   1.402239\n",
      "2    Num_hospitales   1.817808\n",
      "3      Num_iglesias   1.375255\n",
      "4    Hora_llegada_1   1.892592\n",
      "5    Hora_llegada_2   1.854861\n",
      "6    Hora_llegada_3   1.912784\n",
      "7    Hora_llegada_4   1.835817\n",
      "8    Hora_llegada_5   1.873409\n",
      "9    Hora_llegada_6   1.796266\n",
      "10   Hora_llegada_7   1.854700\n",
      "11   Hora_llegada_8   1.911903\n",
      "12   Hora_llegada_9   1.892553\n",
      "13  Hora_llegada_10   1.795764\n",
      "14  Hora_llegada_11   1.892490\n",
      "15  Hora_llegada_12   1.950340\n",
      "16  Hora_llegada_13   1.931195\n",
      "17  Hora_llegada_14   1.892497\n",
      "18  Hora_llegada_15   1.795724\n",
      "19  Hora_llegada_16   1.892478\n",
      "20  Hora_llegada_17   1.815138\n",
      "21  Hora_llegada_18   1.892582\n",
      "22  Hora_llegada_19   1.815823\n",
      "23  Hora_llegada_20   1.775924\n",
      "24  Hora_llegada_21   1.814856\n",
      "25  Hora_llegada_22   1.797368\n",
      "26  Hora_llegada_23   1.931663\n"
     ]
    }
   ],
   "source": [
    "from statsmodels.stats.outliers_influence import variance_inflation_factor\n",
    "vif_data = pd.DataFrame()\n",
    "\n",
    "df_vif  = X\n",
    "vif_data[\"feature\"] = df_vif.columns\n",
    "  \n",
    "# calculating VIF for each feature\n",
    "vif_data[\"VIF\"] = [variance_inflation_factor(df_vif.values, i)\n",
    "                          for i in range(len(df_vif.columns))]\n",
    "\n",
    "print(vif_data)"
   ]
  },
  {
   "cell_type": "markdown",
   "id": "cb026fac",
   "metadata": {},
   "source": [
    "Al analizar los resultados de la regresión lineal podemos ver que el impacto que hace el intercepto (la constante) ahora sí es estadísticamente significativo y tiene una alta magnitud. \n",
    "\n",
    "Asímismo vemos que el número de escuelas tiene una magnitud pequeña, y se relaciona de manera positiva con el número de viajes recibido. Es decir que a mayor escuelas, mayor cantidad de viajes recibidos en una comuna. \n",
    "\n",
    "Con respecto a los hospitales, vemos que es estadísticamente significativo (p value menor a 0.05), y es la variable más significativa de todas al tener el t value más alto. También tiene una magnitud mediana. Esta variable se relaciona positivamente con la cantidad de viajes recibidos en una comuna, es decir que a mayor cantidad de hospitales, mayor cantidad de viajes recibidos. \n",
    "\n",
    "Hablando de las iglesias, esta variable es de una magnitud alta y es estadísticamente significativa. Se relaciona positivamente con los viajes recibidos por comuna, por lo que a mayor cantidad de iglesias, más viajes se reciben en una comuna.\n",
    "\n",
    "En lo que respecta a las zonas típicas, esta variable es de una magnitud alta y estadísticamente significativa. Tiene una relación negativa con la cantidad de viajes, así que mientras más zonas típicas se tengan, menos viajes se recibe en la comuna.\n",
    "\n",
    "Con respecto a las variables dummies, vemos que todas ellas son estadísticamente significativas para nuestro modelo, además de que tienen magnitudes mucho más altas que el resto de variables, por lo que sabemos que el cambio en la hora tiene un impacto más grande en la cantidad de viajes recibidos que las demás variables. "
   ]
  },
  {
   "cell_type": "code",
   "execution_count": null,
   "id": "79e991a1",
   "metadata": {},
   "outputs": [],
   "source": []
  }
 ],
 "metadata": {
  "kernelspec": {
   "display_name": "Python 3",
   "language": "python",
   "name": "python3"
  },
  "language_info": {
   "codemirror_mode": {
    "name": "ipython",
    "version": 3
   },
   "file_extension": ".py",
   "mimetype": "text/x-python",
   "name": "python",
   "nbconvert_exporter": "python",
   "pygments_lexer": "ipython3",
   "version": "3.8.8"
  },
  "vscode": {
   "interpreter": {
    "hash": "2a4d9486dc7c78a56b0f22ff520a56bedf0c100f2b3e3f266ba142c5b1d5f74c"
   }
  }
 },
 "nbformat": 4,
 "nbformat_minor": 5
}
