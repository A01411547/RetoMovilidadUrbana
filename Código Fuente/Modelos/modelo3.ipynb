{
 "cells": [
  {
   "cell_type": "code",
   "execution_count": 24,
   "id": "5fd5192f",
   "metadata": {},
   "outputs": [],
   "source": [
    "from sklearn.linear_model import LinearRegression\n",
    "from sklearn.metrics import mean_squared_log_error\n",
    "from sklearn.metrics import mean_squared_error\n",
    "import pandas as pd"
   ]
  },
  {
   "cell_type": "code",
   "execution_count": 25,
   "id": "b9769e37",
   "metadata": {},
   "outputs": [],
   "source": [
    "df = pd.read_csv(\"training_dataset3.csv\")"
   ]
  },
  {
   "cell_type": "code",
   "execution_count": 26,
   "id": "f83bef83",
   "metadata": {},
   "outputs": [],
   "source": [
    "X = df[['Num_escuelas',\n",
    " 'Num_hospitales',\n",
    " 'Num_iglesias',\n",
    " 'Num_zonas_tipicas',\n",
    "  \"Hora_llegada_1\",                                          \n",
    "  \"Hora_llegada_2\",\n",
    "  \"Hora_llegada_3\",                                          \n",
    "  \"Hora_llegada_4\",\n",
    "  \"Hora_llegada_5\",                                          \n",
    "  \"Hora_llegada_6\",\n",
    "  \"Hora_llegada_7\",                                          \n",
    "  \"Hora_llegada_8\",\n",
    "  \"Hora_llegada_9\",                                          \n",
    "  \"Hora_llegada_10\",\n",
    "  \"Hora_llegada_11\",                                          \n",
    "  \"Hora_llegada_12\",\n",
    "  \"Hora_llegada_13\",                                          \n",
    "  \"Hora_llegada_14\",\n",
    "  \"Hora_llegada_15\",                                          \n",
    "  \"Hora_llegada_16\",                                         \n",
    "  \"Hora_llegada_17\",                                          \n",
    "  \"Hora_llegada_18\",\n",
    "  \"Hora_llegada_19\",                                          \n",
    "  \"Hora_llegada_20\",\n",
    "  \"Hora_llegada_21\",                                          \n",
    "  \"Hora_llegada_22\",\n",
    "  \"Hora_llegada_23\", ]]\n",
    "\n",
    "y = df[\"Num_viajes\"]"
   ]
  },
  {
   "cell_type": "code",
   "execution_count": 27,
   "id": "0bcc314e",
   "metadata": {},
   "outputs": [],
   "source": [
    "from sklearn.model_selection import train_test_split\n",
    "\n",
    "X_train, X_test, y_train, y_test = train_test_split(\n",
    "    X, y, test_size=0.15, random_state=42)"
   ]
  },
  {
   "cell_type": "code",
   "execution_count": 28,
   "id": "5fb18f04",
   "metadata": {},
   "outputs": [
    {
     "data": {
      "text/plain": [
       "LinearRegression()"
      ]
     },
     "execution_count": 28,
     "metadata": {},
     "output_type": "execute_result"
    }
   ],
   "source": [
    "linear_model = LinearRegression()\n",
    "linear_model.fit(X, y)"
   ]
  },
  {
   "cell_type": "code",
   "execution_count": 29,
   "id": "ee978cc3",
   "metadata": {},
   "outputs": [
    {
     "name": "stdout",
     "output_type": "stream",
     "text": [
      "Linear RMSLE : 1.4166204730039076\n",
      "Linear MAE : 293.0052847818318\n"
     ]
    }
   ],
   "source": [
    "from sklearn.metrics import mean_absolute_error as mae\n",
    "from sklearn.metrics import mean_squared_log_error as msle\n",
    "import numpy as np \n",
    "\n",
    "yfit_linear = pd.DataFrame(linear_model.predict(X_train), index = X_train.index, columns = [\"Num_viajes\"]).clip(0.)\n",
    "\n",
    "ypred_linear = pd.DataFrame(linear_model.predict(X_test), index = X_test.index, columns = [\"Num_viajes\"]).clip(0.)\n",
    "\n",
    "\n",
    "print('Linear RMSLE :', np.sqrt(msle(y_test, ypred_linear)))\n",
    "print('Linear MAE :', mae(y_test, ypred_linear))\n"
   ]
  },
  {
   "cell_type": "markdown",
   "id": "b1916ea5",
   "metadata": {},
   "source": [
    "Con las métricas iniciales, vemos claramente que el modelo representa una mejora sobre las iteraciones previas.\n",
    "\n",
    "Ahora procederemos a evaluar más a fondo la precisión del modelo"
   ]
  },
  {
   "cell_type": "markdown",
   "id": "e7b7249c",
   "metadata": {},
   "source": [
    "# Evaluación del modelo\n",
    "\n",
    "A continuación, calcularemos el porcentaje promedio de desviación entre la predicción y el valor real"
   ]
  },
  {
   "cell_type": "code",
   "execution_count": 30,
   "id": "96440c18",
   "metadata": {},
   "outputs": [],
   "source": [
    "dataframe = pd.DataFrame()"
   ]
  },
  {
   "cell_type": "code",
   "execution_count": 31,
   "id": "cb270113",
   "metadata": {},
   "outputs": [],
   "source": [
    "dataframe['Num_viajes'] = y_test"
   ]
  },
  {
   "cell_type": "code",
   "execution_count": 33,
   "id": "6024608c",
   "metadata": {},
   "outputs": [],
   "source": [
    "dataframe['Num_viajes_p'] = ypred_linear"
   ]
  },
  {
   "cell_type": "code",
   "execution_count": 34,
   "id": "6e3dfee0",
   "metadata": {},
   "outputs": [],
   "source": [
    "dataframe['dif'] = abs(dataframe['Num_viajes'] - dataframe['Num_viajes_p'])"
   ]
  },
  {
   "cell_type": "code",
   "execution_count": 35,
   "id": "c0f9be71",
   "metadata": {},
   "outputs": [],
   "source": [
    "import math"
   ]
  },
  {
   "cell_type": "code",
   "execution_count": 36,
   "id": "6b1469d7",
   "metadata": {},
   "outputs": [],
   "source": [
    "dataframe['Num_viajes_p'] =  dataframe['Num_viajes_p'].apply(lambda x: math.ceil(x))"
   ]
  },
  {
   "cell_type": "code",
   "execution_count": 37,
   "id": "767971ff",
   "metadata": {},
   "outputs": [],
   "source": [
    "dataframe[\"Dif_perc\"] =  dataframe[\"dif\"] / dataframe[\"Num_viajes\"] *100"
   ]
  },
  {
   "cell_type": "code",
   "execution_count": 38,
   "id": "ca47dcf7",
   "metadata": {},
   "outputs": [
    {
     "data": {
      "text/plain": [
       "89.33346484561275"
      ]
     },
     "execution_count": 38,
     "metadata": {},
     "output_type": "execute_result"
    }
   ],
   "source": [
    "dataframe[\"Dif_perc\"].mean()"
   ]
  },
  {
   "cell_type": "markdown",
   "id": "cab750c3",
   "metadata": {},
   "source": [
    "Vemos que tenemos una desviación media de 89%, es decir, en promedio esta será la diferencia entre los viajes que se predicen y los que ocurren en realidad"
   ]
  }
 ],
 "metadata": {
  "kernelspec": {
   "display_name": "Python 3",
   "language": "python",
   "name": "python3"
  },
  "language_info": {
   "codemirror_mode": {
    "name": "ipython",
    "version": 3
   },
   "file_extension": ".py",
   "mimetype": "text/x-python",
   "name": "python",
   "nbconvert_exporter": "python",
   "pygments_lexer": "ipython3",
   "version": "3.8.8"
  },
  "vscode": {
   "interpreter": {
    "hash": "2a4d9486dc7c78a56b0f22ff520a56bedf0c100f2b3e3f266ba142c5b1d5f74c"
   }
  }
 },
 "nbformat": 4,
 "nbformat_minor": 5
}
