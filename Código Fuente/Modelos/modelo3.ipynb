{
 "cells": [
  {
   "cell_type": "code",
   "execution_count": 21,
   "id": "5fd5192f",
   "metadata": {},
   "outputs": [],
   "source": [
    "from sklearn.linear_model import LinearRegression\n",
    "from sklearn.metrics import mean_squared_log_error\n",
    "from sklearn.metrics import mean_squared_error\n",
    "import pandas as pd"
   ]
  },
  {
   "cell_type": "code",
   "execution_count": 22,
   "id": "b9769e37",
   "metadata": {},
   "outputs": [],
   "source": [
    "df = pd.read_csv(\"training_dataset3.csv\")"
   ]
  },
  {
   "cell_type": "code",
   "execution_count": 23,
   "id": "f83bef83",
   "metadata": {},
   "outputs": [],
   "source": [
    "X = df[['Num_escuelas',\n",
    " 'Num_hospitales',\n",
    " #'Num_iglesias',\n",
    " #'Num_zonas_tipicas',\n",
    "  \"Hora_llegada_1\",                                          \n",
    "  \"Hora_llegada_2\",\n",
    "  \"Hora_llegada_3\",                                          \n",
    "  \"Hora_llegada_4\",\n",
    "  \"Hora_llegada_5\",                                          \n",
    "  \"Hora_llegada_6\",\n",
    "  \"Hora_llegada_7\",                                          \n",
    "  \"Hora_llegada_8\",\n",
    "  \"Hora_llegada_9\",                                          \n",
    "  \"Hora_llegada_10\",\n",
    "  \"Hora_llegada_11\",                                          \n",
    "  \"Hora_llegada_12\",\n",
    "  \"Hora_llegada_13\",                                          \n",
    "  \"Hora_llegada_14\",\n",
    "  \"Hora_llegada_15\",                                          \n",
    "  \"Hora_llegada_16\",                                         \n",
    "  \"Hora_llegada_17\",                                          \n",
    "  \"Hora_llegada_18\",\n",
    "  \"Hora_llegada_19\",                                          \n",
    "  \"Hora_llegada_20\",\n",
    "  \"Hora_llegada_21\",                                          \n",
    "  \"Hora_llegada_22\",\n",
    "  \"Hora_llegada_23\", ]]\n",
    "\n",
    "y = df[\"Num_viajes\"]"
   ]
  },
  {
   "cell_type": "code",
   "execution_count": 24,
   "id": "0bcc314e",
   "metadata": {},
   "outputs": [],
   "source": [
    "from sklearn.model_selection import train_test_split\n",
    "\n",
    "X_train, X_test, y_train, y_test = train_test_split(\n",
    "    X, y, test_size=0.15, random_state=42)"
   ]
  },
  {
   "cell_type": "code",
   "execution_count": 25,
   "id": "5fb18f04",
   "metadata": {},
   "outputs": [
    {
     "data": {
      "text/plain": [
       "LinearRegression()"
      ]
     },
     "execution_count": 25,
     "metadata": {},
     "output_type": "execute_result"
    }
   ],
   "source": [
    "linear_model = LinearRegression()\n",
    "linear_model.fit(X, y)"
   ]
  },
  {
   "cell_type": "code",
   "execution_count": 26,
   "id": "ee978cc3",
   "metadata": {},
   "outputs": [
    {
     "name": "stdout",
     "output_type": "stream",
     "text": [
      "Linear RMSLE : 1.4094951230207966\n",
      "Linear MAE : 292.8309174116521\n"
     ]
    }
   ],
   "source": [
    "from sklearn.metrics import mean_absolute_error as mae\n",
    "from sklearn.metrics import mean_squared_log_error as msle\n",
    "import numpy as np \n",
    "\n",
    "yfit_linear = pd.DataFrame(linear_model.predict(X_train), index = X_train.index, columns = [\"Num_viajes\"]).clip(0.)\n",
    "\n",
    "ypred_linear = pd.DataFrame(linear_model.predict(X_test), index = X_test.index, columns = [\"Num_viajes\"]).clip(0.)\n",
    "\n",
    "\n",
    "print('Linear RMSLE :', np.sqrt(msle(y_test, ypred_linear)))\n",
    "print('Linear MAE :', mae(y_test, ypred_linear))\n"
   ]
  },
  {
   "cell_type": "code",
   "execution_count": 27,
   "id": "04a9ec83",
   "metadata": {},
   "outputs": [
    {
     "name": "stdout",
     "output_type": "stream",
     "text": [
      "XGBoost mae : 246.09003982600845\n"
     ]
    }
   ],
   "source": [
    "y_train_linear = linear_model.predict(X_train)\n",
    "\n",
    "print('XGBoost mae :', mae(y_train, y_train_linear))\n",
    "#removemos el rmsle porque la regresion lineal produce valores negativos"
   ]
  },
  {
   "cell_type": "markdown",
   "id": "b1916ea5",
   "metadata": {},
   "source": [
    "Con las métricas iniciales, vemos claramente que el modelo representa una mejora sobre las iteraciones previas.\n",
    "\n",
    "Ahora procederemos a evaluar más a fondo la precisión del modelo"
   ]
  },
  {
   "cell_type": "markdown",
   "id": "554e0ab7",
   "metadata": {},
   "source": [
    "# Evaluación del modelo\n",
    "\n",
    "Para evaluar el modelo, revisaremos el % de error utilizando MAE"
   ]
  },
  {
   "cell_type": "markdown",
   "id": "83762f9f",
   "metadata": {},
   "source": [
    "### Training error"
   ]
  },
  {
   "cell_type": "code",
   "execution_count": 28,
   "id": "c63efc56",
   "metadata": {},
   "outputs": [
    {
     "name": "stdout",
     "output_type": "stream",
     "text": [
      "The % of error in training is 63.55060453420408\n"
     ]
    }
   ],
   "source": [
    "dataframe = pd.DataFrame()\n",
    "dataframe['Num_viajes'] = y_train\n",
    "dataframe['Num_viajes_p'] = yfit_linear\n",
    "dataframe['dif'] = abs(dataframe['Num_viajes'] - dataframe['Num_viajes_p'])\n",
    "import math\n",
    "dataframe['Num_viajes_p'] =  dataframe['Num_viajes_p'].apply(lambda x: math.ceil(x))\n",
    "dataframe[\"Dif_perc\"] =  dataframe[\"dif\"] / dataframe[\"Num_viajes\"] *100\n",
    "print(\"The % of error in training is\", dataframe[\"Dif_perc\"].mean())\n"
   ]
  },
  {
   "cell_type": "markdown",
   "id": "7207c244",
   "metadata": {},
   "source": [
    "### Testing error"
   ]
  },
  {
   "cell_type": "code",
   "execution_count": 29,
   "id": "36ff087d",
   "metadata": {},
   "outputs": [
    {
     "name": "stdout",
     "output_type": "stream",
     "text": [
      "The % of error in test is 87.80397201375278\n"
     ]
    }
   ],
   "source": [
    "dataframe = pd.DataFrame()\n",
    "dataframe['Num_viajes'] = y_test\n",
    "dataframe['Num_viajes_p'] = ypred_linear\n",
    "dataframe['dif'] = abs(dataframe['Num_viajes'] - dataframe['Num_viajes_p'])\n",
    "import math\n",
    "dataframe['Num_viajes_p'] =  dataframe['Num_viajes_p'].apply(lambda x: math.ceil(x))\n",
    "dataframe[\"Dif_perc\"] =  dataframe[\"dif\"] / dataframe[\"Num_viajes\"] *100\n",
    "print(\"The % of error in test is\", dataframe[\"Dif_perc\"].mean())\n"
   ]
  },
  {
   "cell_type": "markdown",
   "id": "461e46ca",
   "metadata": {},
   "source": [
    "## Prueba de multicolinearidad"
   ]
  },
  {
   "cell_type": "code",
   "execution_count": 15,
   "id": "b85d895c",
   "metadata": {},
   "outputs": [
    {
     "name": "stdout",
     "output_type": "stream",
     "text": [
      "              feature        VIF\n",
      "0               const  25.685052\n",
      "1        Num_escuelas   2.179267\n",
      "2      Num_hospitales   4.861675\n",
      "3        Num_iglesias  20.398728\n",
      "4   Num_zonas_tipicas  28.342396\n",
      "5      Hora_llegada_1   1.892614\n",
      "6      Hora_llegada_2   1.854917\n",
      "7      Hora_llegada_3   1.912862\n",
      "8      Hora_llegada_4   1.835817\n",
      "9      Hora_llegada_5   1.873951\n",
      "10     Hora_llegada_6   1.796272\n",
      "11     Hora_llegada_7   1.854715\n",
      "12     Hora_llegada_8   1.911969\n",
      "13     Hora_llegada_9   1.892683\n",
      "14    Hora_llegada_10   1.797202\n",
      "15    Hora_llegada_11   1.892496\n",
      "16    Hora_llegada_12   1.950441\n",
      "17    Hora_llegada_13   1.931511\n",
      "18    Hora_llegada_14   1.892500\n",
      "19    Hora_llegada_15   1.796607\n",
      "20    Hora_llegada_16   1.892508\n",
      "21    Hora_llegada_17   1.815142\n",
      "22    Hora_llegada_18   1.892697\n",
      "23    Hora_llegada_19   1.816073\n",
      "24    Hora_llegada_20   1.775957\n",
      "25    Hora_llegada_21   1.814857\n",
      "26    Hora_llegada_22   1.797506\n",
      "27    Hora_llegada_23   1.931779\n"
     ]
    }
   ],
   "source": [
    "from statsmodels.stats.outliers_influence import variance_inflation_factor\n",
    "vif_data = pd.DataFrame()\n",
    "\n",
    "df_vif  = X\n",
    "vif_data[\"feature\"] = df_vif.columns\n",
    "  \n",
    "# calculating VIF for each feature\n",
    "vif_data[\"VIF\"] = [variance_inflation_factor(df_vif.values, i)\n",
    "                          for i in range(len(df_vif.columns))]\n",
    "\n",
    "print(vif_data)"
   ]
  },
  {
   "cell_type": "markdown",
   "id": "242af7b6",
   "metadata": {},
   "source": [
    "## Interpretación"
   ]
  },
  {
   "cell_type": "code",
   "execution_count": 19,
   "id": "9d37d7c4",
   "metadata": {},
   "outputs": [
    {
     "name": "stdout",
     "output_type": "stream",
     "text": [
      "                            OLS Regression Results                            \n",
      "==============================================================================\n",
      "Dep. Variable:             Num_viajes   R-squared:                       0.720\n",
      "Model:                            OLS   Adj. R-squared:                  0.713\n",
      "Method:                 Least Squares   F-statistic:                     102.4\n",
      "Date:                Tue, 29 Nov 2022   Prob (F-statistic):          1.72e-254\n",
      "Time:                        20:19:21   Log-Likelihood:                -7463.8\n",
      "No. Observations:                1020   AIC:                         1.498e+04\n",
      "Df Residuals:                     994   BIC:                         1.511e+04\n",
      "Df Model:                          25                                         \n",
      "Covariance Type:            nonrobust                                         \n",
      "===================================================================================\n",
      "                      coef    std err          t      P>|t|      [0.025      0.975]\n",
      "-----------------------------------------------------------------------------------\n",
      "const            -502.5967     57.773     -8.699      0.000    -615.968    -389.225\n",
      "Num_escuelas        1.1840      0.064     18.479      0.000       1.058       1.310\n",
      "Num_hospitales     15.3114      1.026     14.927      0.000      13.298      17.324\n",
      "Hora_llegada_1    449.5168     78.280      5.742      0.000     295.903     603.131\n",
      "Hora_llegada_2    581.1714     79.236      7.335      0.000     425.683     736.660\n",
      "Hora_llegada_3    314.1786     77.843      4.036      0.000     161.424     466.933\n",
      "Hora_llegada_4    238.1068     79.740      2.986      0.003      81.628     394.586\n",
      "Hora_llegada_5    165.6759     78.743      2.104      0.036      11.154     320.198\n",
      "Hora_llegada_6    224.0181     80.797      2.773      0.006      65.466     382.570\n",
      "Hora_llegada_7    232.6279     79.217      2.937      0.003      77.177     388.079\n",
      "Hora_llegada_8    294.7687     77.839      3.787      0.000     142.020     447.517\n",
      "Hora_llegada_9    330.8361     78.280      4.226      0.000     177.223     484.449\n",
      "Hora_llegada_10   424.8162     80.784      5.259      0.000     266.290     583.342\n",
      "Hora_llegada_11   527.5747     78.279      6.740      0.000     373.964     681.185\n",
      "Hora_llegada_12   721.5535     77.007      9.370      0.000     570.439     872.668\n",
      "Hora_llegada_13   851.1410     77.416     10.994      0.000     699.223    1003.059\n",
      "Hora_llegada_14   864.2274     78.279     11.040      0.000     710.617    1017.838\n",
      "Hora_llegada_15   772.1980     80.784      9.559      0.000     613.671     930.725\n",
      "Hora_llegada_16   790.9504     78.278     10.104      0.000     637.341     944.560\n",
      "Hora_llegada_17   858.6018     80.239     10.701      0.000     701.145    1016.058\n",
      "Hora_llegada_18   967.7696     78.280     12.363      0.000     814.157    1121.382\n",
      "Hora_llegada_19  1158.6340     80.247     14.438      0.000    1001.161    1316.107\n",
      "Hora_llegada_20  1433.9761     81.347     17.628      0.000    1274.344    1593.608\n",
      "Hora_llegada_21  1800.0873     80.234     22.436      0.000    1642.641    1957.534\n",
      "Hora_llegada_22  1281.6126     80.817     15.858      0.000    1123.021    1440.204\n",
      "Hora_llegada_23   833.9316     77.424     10.771      0.000     681.998     985.865\n",
      "==============================================================================\n",
      "Omnibus:                      208.268   Durbin-Watson:                   2.011\n",
      "Prob(Omnibus):                  0.000   Jarque-Bera (JB):             1566.495\n",
      "Skew:                           0.720   Prob(JB):                         0.00\n",
      "Kurtosis:                       8.898   Cond. No.                     8.53e+03\n",
      "==============================================================================\n",
      "\n",
      "Notes:\n",
      "[1] Standard Errors assume that the covariance matrix of the errors is correctly specified.\n",
      "[2] The condition number is large, 8.53e+03. This might indicate that there are\n",
      "strong multicollinearity or other numerical problems.\n"
     ]
    }
   ],
   "source": [
    "import statsmodels.api as sm\n",
    "\n",
    "#Eliminamos las variables con VIF superior a 5\n",
    "\n",
    "X_train = X_train[['Num_escuelas',\n",
    " 'Num_hospitales',\n",
    "  \"Hora_llegada_1\",                                          \n",
    "  \"Hora_llegada_2\",\n",
    "  \"Hora_llegada_3\",                                          \n",
    "  \"Hora_llegada_4\",\n",
    "  \"Hora_llegada_5\",                                          \n",
    "  \"Hora_llegada_6\",\n",
    "  \"Hora_llegada_7\",                                          \n",
    "  \"Hora_llegada_8\",\n",
    "  \"Hora_llegada_9\",                                          \n",
    "  \"Hora_llegada_10\",\n",
    "  \"Hora_llegada_11\",                                          \n",
    "  \"Hora_llegada_12\",\n",
    "  \"Hora_llegada_13\",                                          \n",
    "  \"Hora_llegada_14\",\n",
    "  \"Hora_llegada_15\",                                          \n",
    "  \"Hora_llegada_16\",                                         \n",
    "  \"Hora_llegada_17\",                                          \n",
    "  \"Hora_llegada_18\",\n",
    "  \"Hora_llegada_19\",                                          \n",
    "  \"Hora_llegada_20\",\n",
    "  \"Hora_llegada_21\",                                          \n",
    "  \"Hora_llegada_22\",\n",
    "  \"Hora_llegada_23\" ]]\n",
    "\n",
    "X = sm.add_constant(X_train)\n",
    "\n",
    "\n",
    "model = sm.OLS(y_train,X)\n",
    "results = model.fit()\n",
    "print(results.summary())"
   ]
  },
  {
   "cell_type": "markdown",
   "id": "0ef853e7",
   "metadata": {},
   "source": [
    "Al analizar los resultados de la regresión lineal podemos ver que el impacto que hace el intercepto (la constante) ahora sí es estadísticamente significativo y tiene una alta magnitud. \n",
    "\n",
    "Asímismo vemos que el número de escuelas tiene una magnitud pequeña, y se relaciona de manera positiva con el número de viajes recibido. Es decir que a mayor escuelas, mayor cantidad de viajes recibidos en una comuna. \n",
    "\n",
    "Con respecto a los hospitales, vemos que es estadísticamente significativo (p value menor a 0.05), y es la variable más significativa de todas al tener el t value más alto. También tiene una magnitud mediana. Esta variable se relaciona positivamente con la cantidad de viajes recibidos en una comuna, es decir que a mayor cantidad de hospitales, mayor cantidad de viajes recibidos. \n",
    "\n",
    "Hablando de las iglesias, esta variable es de una magnitud alta y es estadísticamente significativa. Se relaciona positivamente con los viajes recibidos por comuna, por lo que a mayor cantidad de iglesias, más viajes se reciben en una comuna.\n",
    "\n",
    "En lo que respecta a las zonas típicas, esta variable es de una magnitud alta y estadísticamente significativa. Tiene una relación negativa con la cantidad de viajes, así que mientras más zonas típicas se tengan, menos viajes se recibe en la comuna.\n",
    "\n",
    "Con respecto a las variables dummies, vemos que todas ellas son estadísticamente significativas para nuestro modelo, además de que tienen magnitudes mucho más altas que el resto de variables, por lo que sabemos que el cambio en la hora tiene un impacto más grande en la cantidad de viajes recibidos que las demás variables. "
   ]
  },
  {
   "cell_type": "code",
   "execution_count": null,
   "id": "6b6ef811",
   "metadata": {},
   "outputs": [],
   "source": []
  }
 ],
 "metadata": {
  "kernelspec": {
   "display_name": "Python 3",
   "language": "python",
   "name": "python3"
  },
  "language_info": {
   "codemirror_mode": {
    "name": "ipython",
    "version": 3
   },
   "file_extension": ".py",
   "mimetype": "text/x-python",
   "name": "python",
   "nbconvert_exporter": "python",
   "pygments_lexer": "ipython3",
   "version": "3.8.8"
  },
  "vscode": {
   "interpreter": {
    "hash": "2a4d9486dc7c78a56b0f22ff520a56bedf0c100f2b3e3f266ba142c5b1d5f74c"
   }
  }
 },
 "nbformat": 4,
 "nbformat_minor": 5
}
