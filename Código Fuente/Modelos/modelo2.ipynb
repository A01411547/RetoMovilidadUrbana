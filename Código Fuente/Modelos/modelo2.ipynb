{
 "cells": [
  {
   "cell_type": "code",
   "execution_count": 1,
   "id": "5fd5192f",
   "metadata": {},
   "outputs": [],
   "source": [
    "from sklearn.linear_model import LinearRegression\n",
    "from sklearn.metrics import mean_squared_log_error\n",
    "from sklearn.metrics import mean_squared_error\n",
    "import pandas as pd"
   ]
  },
  {
   "cell_type": "code",
   "execution_count": 2,
   "id": "b9769e37",
   "metadata": {},
   "outputs": [],
   "source": [
    "df = pd.read_csv(\"training_dataset_dp2.csv\")"
   ]
  },
  {
   "cell_type": "code",
   "execution_count": 3,
   "id": "f83bef83",
   "metadata": {},
   "outputs": [],
   "source": [
    "X = df[['Num_escuelas',\n",
    " 'Num_hospitales',\n",
    " 'Num_iglesias',\n",
    " 'Num_zonas_tipicas',\n",
    "  \"Hora_llegada_1\",                                          \n",
    "  \"Hora_llegada_2\",\n",
    "  \"Hora_llegada_3\",                                          \n",
    "  \"Hora_llegada_4\",\n",
    "  \"Hora_llegada_5\",                                          \n",
    "  \"Hora_llegada_6\",\n",
    "  \"Hora_llegada_7\",                                          \n",
    "  \"Hora_llegada_8\",\n",
    "  \"Hora_llegada_9\",                                          \n",
    "  \"Hora_llegada_10\",\n",
    "  \"Hora_llegada_11\",                                          \n",
    "  \"Hora_llegada_12\",\n",
    "  \"Hora_llegada_13\",                                          \n",
    "  \"Hora_llegada_14\",\n",
    "  \"Hora_llegada_15\",                                          \n",
    "  \"Hora_llegada_16\",                                         \n",
    "  \"Hora_llegada_17\",                                          \n",
    "  \"Hora_llegada_18\",\n",
    "  \"Hora_llegada_19\",                                          \n",
    "  \"Hora_llegada_20\",\n",
    "  \"Hora_llegada_21\",                                          \n",
    "  \"Hora_llegada_22\",\n",
    "  \"Hora_llegada_23\", ]]\n",
    "\n",
    "y = df[\"Num_viajes\"]"
   ]
  },
  {
   "cell_type": "code",
   "execution_count": 4,
   "id": "0bcc314e",
   "metadata": {},
   "outputs": [],
   "source": [
    "from sklearn.model_selection import train_test_split\n",
    "\n",
    "X_train, X_test, y_train, y_test = train_test_split(\n",
    "    X, y, test_size=0.15, random_state=42)"
   ]
  },
  {
   "cell_type": "code",
   "execution_count": 5,
   "id": "5fb18f04",
   "metadata": {},
   "outputs": [
    {
     "data": {
      "text/plain": [
       "LinearRegression()"
      ]
     },
     "execution_count": 5,
     "metadata": {},
     "output_type": "execute_result"
    }
   ],
   "source": [
    "linear_model = LinearRegression()\n",
    "linear_model.fit(X, y)"
   ]
  },
  {
   "cell_type": "code",
   "execution_count": 6,
   "id": "ee978cc3",
   "metadata": {},
   "outputs": [
    {
     "name": "stdout",
     "output_type": "stream",
     "text": [
      "Linear RMSLE : 1.4360590284591315\n",
      "Linear MAE : 862.5127815297449\n"
     ]
    }
   ],
   "source": [
    "from sklearn.metrics import mean_absolute_error as mae\n",
    "from sklearn.metrics import mean_squared_log_error as msle\n",
    "import numpy as np \n",
    "\n",
    "yfit_linear = pd.DataFrame(linear_model.predict(X_train), index = X_train.index, columns = [\"Num_viajes\"]).clip(0.)\n",
    "\n",
    "ypred_linear = pd.DataFrame(linear_model.predict(X_test), index = X_test.index, columns = [\"Num_viajes\"]).clip(0.)\n",
    "\n",
    "\n",
    "print('Linear RMSLE :', np.sqrt(msle(y_test, ypred_linear)))\n",
    "print('Linear MAE :', mae(y_test, ypred_linear))\n"
   ]
  },
  {
   "cell_type": "markdown",
   "id": "554e0ab7",
   "metadata": {},
   "source": [
    "# Evaluación del modelo\n",
    "\n",
    "Para evaluar el modelo, revisaremos el % de error utilizando MAE"
   ]
  },
  {
   "cell_type": "markdown",
   "id": "910ba7bd",
   "metadata": {},
   "source": [
    "### Training error"
   ]
  },
  {
   "cell_type": "code",
   "execution_count": 7,
   "id": "8c6cb9e5",
   "metadata": {},
   "outputs": [
    {
     "name": "stdout",
     "output_type": "stream",
     "text": [
      "The % of error in training is 44.04807085947441\n"
     ]
    }
   ],
   "source": [
    "dataframe = pd.DataFrame()\n",
    "dataframe['Num_viajes'] = y_train\n",
    "dataframe['Num_viajes_p'] = yfit_linear\n",
    "dataframe['dif'] = abs(dataframe['Num_viajes'] - dataframe['Num_viajes_p'])\n",
    "import math\n",
    "dataframe['Num_viajes_p'] =  dataframe['Num_viajes_p'].apply(lambda x: math.ceil(x))\n",
    "dataframe[\"Dif_perc\"] =  dataframe[\"dif\"] / dataframe[\"Num_viajes\"] *100\n",
    "print(\"The % of error in training is\", dataframe[\"Dif_perc\"].mean())\n"
   ]
  },
  {
   "cell_type": "markdown",
   "id": "6f6dc623",
   "metadata": {},
   "source": [
    "### Testing error"
   ]
  },
  {
   "cell_type": "code",
   "execution_count": 8,
   "id": "2ce2988c",
   "metadata": {},
   "outputs": [
    {
     "name": "stdout",
     "output_type": "stream",
     "text": [
      "The % of error in test is 54.92606358208962\n"
     ]
    }
   ],
   "source": [
    "dataframe = pd.DataFrame()\n",
    "dataframe['Num_viajes'] = y_test\n",
    "dataframe['Num_viajes_p'] = ypred_linear\n",
    "dataframe['dif'] = abs(dataframe['Num_viajes'] - dataframe['Num_viajes_p'])\n",
    "import math\n",
    "dataframe['Num_viajes_p'] =  dataframe['Num_viajes_p'].apply(lambda x: math.ceil(x))\n",
    "dataframe[\"Dif_perc\"] =  dataframe[\"dif\"] / dataframe[\"Num_viajes\"] *100\n",
    "print(\"The % of error in test is\", dataframe[\"Dif_perc\"].mean())\n"
   ]
  },
  {
   "cell_type": "markdown",
   "id": "419c4751",
   "metadata": {},
   "source": [
    "## Interpretación"
   ]
  },
  {
   "cell_type": "code",
   "execution_count": 9,
   "id": "41ef505e",
   "metadata": {},
   "outputs": [
    {
     "name": "stdout",
     "output_type": "stream",
     "text": [
      "                            OLS Regression Results                            \n",
      "==============================================================================\n",
      "Dep. Variable:             Num_viajes   R-squared:                       0.767\n",
      "Model:                            OLS   Adj. R-squared:                  0.760\n",
      "Method:                 Least Squares   F-statistic:                     120.8\n",
      "Date:                Mon, 28 Nov 2022   Prob (F-statistic):          3.45e-291\n",
      "Time:                        19:04:12   Log-Likelihood:                -8547.5\n",
      "No. Observations:                1020   AIC:                         1.715e+04\n",
      "Df Residuals:                     992   BIC:                         1.729e+04\n",
      "Df Model:                          27                                         \n",
      "Covariance Type:            nonrobust                                         \n",
      "=====================================================================================\n",
      "                        coef    std err          t      P>|t|      [0.025      0.975]\n",
      "-------------------------------------------------------------------------------------\n",
      "const             -1837.0358    169.705    -10.825      0.000   -2170.058   -1504.013\n",
      "Num_escuelas          3.9580      0.232     17.069      0.000       3.503       4.413\n",
      "Num_hospitales      102.5404      5.543     18.499      0.000      91.663     113.418\n",
      "Num_iglesias        832.9501     61.073     13.639      0.000     713.103     952.797\n",
      "Num_zonas_tipicas  -877.6988     58.570    -14.986      0.000    -992.633    -762.764\n",
      "Hora_llegada_1     1549.4546    226.744      6.834      0.000    1104.502    1994.407\n",
      "Hora_llegada_2     1813.1202    229.522      7.900      0.000    1362.717    2263.524\n",
      "Hora_llegada_3     1146.8853    225.522      5.085      0.000     704.331    1589.440\n",
      "Hora_llegada_4      818.8051    230.987      3.545      0.000     365.527    1272.083\n",
      "Hora_llegada_5      526.5857    228.115      2.308      0.021      78.943     974.228\n",
      "Hora_llegada_6      573.7907    234.032      2.452      0.014     114.537    1033.045\n",
      "Hora_llegada_7      416.2766    229.509      1.814      0.070     -34.102     866.656\n",
      "Hora_llegada_8      629.2827    225.469      2.791      0.005     186.831    1071.734\n",
      "Hora_llegada_9      802.0096    226.748      3.537      0.000     357.049    1246.970\n",
      "Hora_llegada_10    1272.2533    234.092      5.435      0.000     812.881    1731.626\n",
      "Hora_llegada_11    1489.8534    226.737      6.571      0.000    1044.915    1934.792\n",
      "Hora_llegada_12    2010.5730    223.057      9.014      0.000    1572.855    2448.291\n",
      "Hora_llegada_13    2391.1551    224.257     10.663      0.000    1951.083    2831.227\n",
      "Hora_llegada_14    2498.9646    226.737     11.021      0.000    2054.026    2943.903\n",
      "Hora_llegada_15    2364.3889    234.053     10.102      0.000    1905.092    2823.686\n",
      "Hora_llegada_16    2357.5997    226.737     10.398      0.000    1912.660    2802.539\n",
      "Hora_llegada_17    2315.7669    232.417      9.964      0.000    1859.682    2771.852\n",
      "Hora_llegada_18    2546.6235    226.749     11.231      0.000    2101.662    2991.585\n",
      "Hora_llegada_19    2824.0621    232.476     12.148      0.000    2367.860    3280.264\n",
      "Hora_llegada_20    3249.4284    235.626     13.791      0.000    2787.045    3711.812\n",
      "Hora_llegada_21    3810.2181    232.399     16.395      0.000    3354.169    4266.267\n",
      "Hora_llegada_22    2993.9341    234.112     12.788      0.000    2534.523    3453.346\n",
      "Hora_llegada_23    2120.6275    224.272      9.456      0.000    1680.525    2560.730\n",
      "==============================================================================\n",
      "Omnibus:                      123.729   Durbin-Watson:                   1.951\n",
      "Prob(Omnibus):                  0.000   Jarque-Bera (JB):              339.582\n",
      "Skew:                           0.633   Prob(JB):                     1.82e-74\n",
      "Kurtosis:                       5.527   Cond. No.                     8.53e+03\n",
      "==============================================================================\n",
      "\n",
      "Notes:\n",
      "[1] Standard Errors assume that the covariance matrix of the errors is correctly specified.\n",
      "[2] The condition number is large, 8.53e+03. This might indicate that there are\n",
      "strong multicollinearity or other numerical problems.\n"
     ]
    }
   ],
   "source": [
    "import statsmodels.api as sm\n",
    "X = sm.add_constant(X_train)\n",
    "model = sm.OLS(y_train,X)\n",
    "results = model.fit()\n",
    "print(results.summary())"
   ]
  },
  {
   "cell_type": "markdown",
   "id": "7a998c50",
   "metadata": {},
   "source": [
    "Al analizar los resultados de la regresión lineal podemos ver que el impacto que hace el intercepto (la constante) ahora sí es estadísticamente significativo y tiene una alta magnitud. \n",
    "\n",
    "Asímismo vemos que el número de escuelas tiene una magnitud pequeña, y se relaciona de manera positiva con el número de viajes recibido. Es decir que a mayor escuelas, mayor cantidad de viajes recibidos en una comuna. \n",
    "\n",
    "Con respecto a los hospitales, vemos que es estadísticamente significativo (p value menor a 0.05), y es la variable más significativa de todas al tener el t value más alto. También tiene una magnitud mediana. Esta variable se relaciona positivamente con la cantidad de viajes recibidos en una comuna, es decir que a mayor cantidad de hospitales, mayor cantidad de viajes recibidos. \n",
    "\n",
    "Hablando de las iglesias, esta variable es de una magnitud alta y es estadísticamente significativa. Se relaciona positivamente con los viajes recibidos por comuna, por lo que a mayor cantidad de iglesias, más viajes se reciben en una comuna.\n",
    "\n",
    "En lo que respecta a las zonas típicas, esta variable es de una magnitud alta y estadísticamente significativa. Tiene una relación negativa con la cantidad de viajes, así que mientras más zonas típicas se tengan, menos viajes se recibe en la comuna.\n",
    "\n",
    "Con respecto a las variables dummies, vemos que todas ellas son estadísticamente significativas para nuestro modelo, además de que tienen magnitudes mucho más altas que el resto de variables, por lo que sabemos que el cambio en la hora tiene un impacto más grande en la cantidad de viajes recibidos que las demás variables. "
   ]
  },
  {
   "cell_type": "code",
   "execution_count": null,
   "id": "c56e08db",
   "metadata": {},
   "outputs": [],
   "source": []
  }
 ],
 "metadata": {
  "kernelspec": {
   "display_name": "Python 3",
   "language": "python",
   "name": "python3"
  },
  "language_info": {
   "codemirror_mode": {
    "name": "ipython",
    "version": 3
   },
   "file_extension": ".py",
   "mimetype": "text/x-python",
   "name": "python",
   "nbconvert_exporter": "python",
   "pygments_lexer": "ipython3",
   "version": "3.8.8"
  },
  "vscode": {
   "interpreter": {
    "hash": "2a4d9486dc7c78a56b0f22ff520a56bedf0c100f2b3e3f266ba142c5b1d5f74c"
   }
  }
 },
 "nbformat": 4,
 "nbformat_minor": 5
}
