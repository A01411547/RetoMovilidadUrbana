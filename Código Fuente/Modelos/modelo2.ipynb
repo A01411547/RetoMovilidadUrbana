{
 "cells": [
  {
   "cell_type": "code",
   "execution_count": 32,
   "id": "5fd5192f",
   "metadata": {},
   "outputs": [],
   "source": [
    "from sklearn.linear_model import LinearRegression\n",
    "from sklearn.metrics import mean_squared_log_error\n",
    "from sklearn.metrics import mean_squared_error\n",
    "import pandas as pd"
   ]
  },
  {
   "cell_type": "code",
   "execution_count": 34,
   "id": "b9769e37",
   "metadata": {},
   "outputs": [],
   "source": [
    "df = pd.read_csv(\"training_dataset_dp2.csv\")"
   ]
  },
  {
   "cell_type": "code",
   "execution_count": 35,
   "id": "f83bef83",
   "metadata": {},
   "outputs": [],
   "source": [
    "X = df[['Num_escuelas',\n",
    " 'Num_hospitales',\n",
    " 'Num_iglesias',\n",
    " 'Num_zonas_tipicas',\n",
    "  \"Hora_llegada_1\",                                          \n",
    "  \"Hora_llegada_2\",\n",
    "  \"Hora_llegada_3\",                                          \n",
    "  \"Hora_llegada_4\",\n",
    "  \"Hora_llegada_5\",                                          \n",
    "  \"Hora_llegada_6\",\n",
    "  \"Hora_llegada_7\",                                          \n",
    "  \"Hora_llegada_8\",\n",
    "  \"Hora_llegada_9\",                                          \n",
    "  \"Hora_llegada_10\",\n",
    "  \"Hora_llegada_11\",                                          \n",
    "  \"Hora_llegada_12\",\n",
    "  \"Hora_llegada_13\",                                          \n",
    "  \"Hora_llegada_14\",\n",
    "  \"Hora_llegada_15\",                                          \n",
    "  \"Hora_llegada_16\",                                         \n",
    "  \"Hora_llegada_17\",                                          \n",
    "  \"Hora_llegada_18\",\n",
    "  \"Hora_llegada_19\",                                          \n",
    "  \"Hora_llegada_20\",\n",
    "  \"Hora_llegada_21\",                                          \n",
    "  \"Hora_llegada_22\",\n",
    "  \"Hora_llegada_23\", ]]\n",
    "\n",
    "y = df[\"Num_viajes\"]"
   ]
  },
  {
   "cell_type": "code",
   "execution_count": 36,
   "id": "0bcc314e",
   "metadata": {},
   "outputs": [],
   "source": [
    "from sklearn.model_selection import train_test_split\n",
    "\n",
    "X_train, X_test, y_train, y_test = train_test_split(\n",
    "    X, y, test_size=0.15, random_state=42)"
   ]
  },
  {
   "cell_type": "code",
   "execution_count": 37,
   "id": "5fb18f04",
   "metadata": {},
   "outputs": [
    {
     "data": {
      "text/plain": [
       "LinearRegression()"
      ]
     },
     "execution_count": 37,
     "metadata": {},
     "output_type": "execute_result"
    }
   ],
   "source": [
    "linear_model = LinearRegression()\n",
    "linear_model.fit(X, y)"
   ]
  },
  {
   "cell_type": "code",
   "execution_count": 38,
   "id": "ee978cc3",
   "metadata": {},
   "outputs": [
    {
     "name": "stdout",
     "output_type": "stream",
     "text": [
      "Linear RMSLE : 1.4360590284591315\n",
      "Linear MAE : 862.5127815297449\n"
     ]
    }
   ],
   "source": [
    "from sklearn.metrics import mean_absolute_error as mae\n",
    "from sklearn.metrics import mean_squared_log_error as msle\n",
    "import numpy as np \n",
    "\n",
    "yfit_linear = pd.DataFrame(linear_model.predict(X_train), index = X_train.index, columns = [\"Num_viajes\"]).clip(0.)\n",
    "\n",
    "ypred_linear = pd.DataFrame(linear_model.predict(X_test), index = X_test.index, columns = [\"Num_viajes\"]).clip(0.)\n",
    "\n",
    "\n",
    "print('Linear RMSLE :', np.sqrt(msle(y_test, ypred_linear)))\n",
    "print('Linear MAE :', mae(y_test, ypred_linear))\n"
   ]
  },
  {
   "cell_type": "markdown",
   "id": "2bdabeda",
   "metadata": {},
   "source": [
    "# Evaluación del modelo\n",
    "\n",
    "Debido a que seguiremos iterando y evolucionando el modelo, las siguientes métricas servirán como benchmarck para saber si la siguiente iteración representa una mejora"
   ]
  },
  {
   "cell_type": "markdown",
   "id": "6d766ac3",
   "metadata": {},
   "source": [
    "Linear RMSLE : 1.4360590284591315\n",
    "\n",
    "Linear MAE : 862.5127815297449\n"
   ]
  }
 ],
 "metadata": {
  "kernelspec": {
   "display_name": "Python 3",
   "language": "python",
   "name": "python3"
  },
  "language_info": {
   "codemirror_mode": {
    "name": "ipython",
    "version": 3
   },
   "file_extension": ".py",
   "mimetype": "text/x-python",
   "name": "python",
   "nbconvert_exporter": "python",
   "pygments_lexer": "ipython3",
   "version": "3.8.8"
  },
  "vscode": {
   "interpreter": {
    "hash": "2a4d9486dc7c78a56b0f22ff520a56bedf0c100f2b3e3f266ba142c5b1d5f74c"
   }
  }
 },
 "nbformat": 4,
 "nbformat_minor": 5
}
