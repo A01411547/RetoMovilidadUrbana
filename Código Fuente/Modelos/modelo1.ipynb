{
 "cells": [
  {
   "cell_type": "code",
   "execution_count": 1,
   "id": "5fd5192f",
   "metadata": {},
   "outputs": [],
   "source": [
    "from sklearn.linear_model import LinearRegression\n",
    "from sklearn.metrics import mean_squared_log_error\n",
    "from sklearn.metrics import mean_squared_error\n",
    "import pandas as pd"
   ]
  },
  {
   "cell_type": "code",
   "execution_count": 2,
   "id": "b9769e37",
   "metadata": {},
   "outputs": [],
   "source": [
    "df = pd.read_csv(\"training_dataset1.csv\")"
   ]
  },
  {
   "cell_type": "code",
   "execution_count": 3,
   "id": "f83bef83",
   "metadata": {},
   "outputs": [],
   "source": [
    "X = df[['Num_escuelas',\n",
    " 'Num_hospitales',\n",
    " 'Num_iglesias',\n",
    " 'Num_zonas_tipicas',\n",
    "   ]]\n",
    "\n",
    "y = df[\"Num_viajes\"]"
   ]
  },
  {
   "cell_type": "code",
   "execution_count": 4,
   "id": "0bcc314e",
   "metadata": {},
   "outputs": [],
   "source": [
    "from sklearn.model_selection import train_test_split\n",
    "\n",
    "X_train, X_test, y_train, y_test = train_test_split(\n",
    "    X, y, test_size=0.15, random_state=42)"
   ]
  },
  {
   "cell_type": "code",
   "execution_count": 5,
   "id": "5fb18f04",
   "metadata": {},
   "outputs": [
    {
     "data": {
      "text/plain": [
       "LinearRegression()"
      ]
     },
     "execution_count": 5,
     "metadata": {},
     "output_type": "execute_result"
    }
   ],
   "source": [
    "linear_model = LinearRegression()\n",
    "linear_model.fit(X, y)"
   ]
  },
  {
   "cell_type": "code",
   "execution_count": 6,
   "id": "ee978cc3",
   "metadata": {},
   "outputs": [
    {
     "name": "stdout",
     "output_type": "stream",
     "text": [
      "Linear RMSLE : 0.693876749693628\n",
      "Linear MAE : 19388.925108526328\n"
     ]
    }
   ],
   "source": [
    "from sklearn.metrics import mean_absolute_error as mae\n",
    "from sklearn.metrics import mean_squared_log_error as msle\n",
    "import numpy as np \n",
    "\n",
    "yfit_linear = pd.DataFrame(linear_model.predict(X_train), index = X_train.index, columns = [\"Num_viajes\"]).clip(0.)\n",
    "\n",
    "ypred_linear = pd.DataFrame(linear_model.predict(X_test), index = X_test.index, columns = [\"Num_viajes\"]).clip(0.)\n",
    "\n",
    "\n",
    "print('Linear RMSLE :', np.sqrt(msle(y_test, ypred_linear)))\n",
    "print('Linear MAE :', mae(y_test, ypred_linear))\n"
   ]
  },
  {
   "cell_type": "code",
   "execution_count": 7,
   "id": "61c07a7f",
   "metadata": {},
   "outputs": [
    {
     "name": "stdout",
     "output_type": "stream",
     "text": [
      "XGBoost mae : 16385.277101314692\n"
     ]
    }
   ],
   "source": [
    "y_train_linear = linear_model.predict(X_train)\n",
    "\n",
    "print('XGBoost mae :', mae(y_train, y_train_linear))\n"
   ]
  },
  {
   "cell_type": "markdown",
   "id": "554e0ab7",
   "metadata": {},
   "source": [
    "# Evaluación del modelo\n",
    "\n",
    "Para evaluar el modelo, revisaremos el % de error utilizando MAE"
   ]
  },
  {
   "cell_type": "markdown",
   "id": "f3d33df0",
   "metadata": {},
   "source": [
    "### Training error"
   ]
  },
  {
   "cell_type": "code",
   "execution_count": 8,
   "id": "222ca2ad",
   "metadata": {},
   "outputs": [
    {
     "name": "stdout",
     "output_type": "stream",
     "text": [
      "The % of error in training is 31.47445253338586\n"
     ]
    }
   ],
   "source": [
    "dataframe = pd.DataFrame()\n",
    "dataframe['Num_viajes'] = y_train\n",
    "dataframe['Num_viajes_p'] = yfit_linear\n",
    "dataframe['dif'] = abs(dataframe['Num_viajes'] - dataframe['Num_viajes_p'])\n",
    "import math\n",
    "dataframe['Num_viajes_p'] =  dataframe['Num_viajes_p'].apply(lambda x: math.ceil(x))\n",
    "dataframe[\"Dif_perc\"] =  dataframe[\"dif\"] / dataframe[\"Num_viajes\"] *100\n",
    "print(\"The % of error in training is\", dataframe[\"Dif_perc\"].mean())\n"
   ]
  },
  {
   "cell_type": "markdown",
   "id": "e546ff36",
   "metadata": {},
   "source": [
    "### Testing error"
   ]
  },
  {
   "cell_type": "code",
   "execution_count": 9,
   "id": "b2e2917f",
   "metadata": {},
   "outputs": [
    {
     "name": "stdout",
     "output_type": "stream",
     "text": [
      "The % of error in test is 67.03080147997044\n"
     ]
    }
   ],
   "source": [
    "dataframe = pd.DataFrame()\n",
    "dataframe['Num_viajes'] = y_test\n",
    "dataframe['Num_viajes_p'] = ypred_linear\n",
    "dataframe['dif'] = abs(dataframe['Num_viajes'] - dataframe['Num_viajes_p'])\n",
    "import math\n",
    "dataframe['Num_viajes_p'] =  dataframe['Num_viajes_p'].apply(lambda x: math.ceil(x))\n",
    "dataframe[\"Dif_perc\"] =  dataframe[\"dif\"] / dataframe[\"Num_viajes\"] *100\n",
    "print(\"The % of error in test is\", dataframe[\"Dif_perc\"].mean())\n"
   ]
  },
  {
   "cell_type": "markdown",
   "id": "807d64b0",
   "metadata": {},
   "source": [
    "## Interpretación"
   ]
  },
  {
   "cell_type": "code",
   "execution_count": 13,
   "id": "15f83485",
   "metadata": {},
   "outputs": [
    {
     "name": "stdout",
     "output_type": "stream",
     "text": [
      "                            OLS Regression Results                            \n",
      "==============================================================================\n",
      "Dep. Variable:             Num_viajes   R-squared:                       0.759\n",
      "Model:                            OLS   Adj. R-squared:                  0.733\n",
      "Method:                 Least Squares   F-statistic:                     29.17\n",
      "Date:                Mon, 28 Nov 2022   Prob (F-statistic):           5.45e-11\n",
      "Time:                        20:12:52   Log-Likelihood:                -480.40\n",
      "No. Observations:                  42   AIC:                             970.8\n",
      "Df Residuals:                      37   BIC:                             979.5\n",
      "Df Model:                           4                                         \n",
      "Covariance Type:            nonrobust                                         \n",
      "=====================================================================================\n",
      "                        coef    std err          t      P>|t|      [0.025      0.975]\n",
      "-------------------------------------------------------------------------------------\n",
      "const              1.116e+04   6602.803      1.690      0.099   -2221.256    2.45e+04\n",
      "Num_escuelas          2.1012      0.608      3.454      0.001       0.869       3.334\n",
      "Num_hospitales       50.4021     14.839      3.397      0.002      20.336      80.468\n",
      "Num_iglesias        431.7600    162.204      2.662      0.011     103.104     760.416\n",
      "Num_zonas_tipicas  -448.5378    156.228     -2.871      0.007    -765.085    -131.990\n",
      "==============================================================================\n",
      "Omnibus:                        5.674   Durbin-Watson:                   2.126\n",
      "Prob(Omnibus):                  0.059   Jarque-Bera (JB):                4.374\n",
      "Skew:                           0.650   Prob(JB):                        0.112\n",
      "Kurtosis:                       3.899   Cond. No.                     2.79e+04\n",
      "==============================================================================\n",
      "\n",
      "Notes:\n",
      "[1] Standard Errors assume that the covariance matrix of the errors is correctly specified.\n",
      "[2] The condition number is large, 2.79e+04. This might indicate that there are\n",
      "strong multicollinearity or other numerical problems.\n"
     ]
    }
   ],
   "source": [
    "import statsmodels.api as sm\n",
    "X = sm.add_constant(X_train)\n",
    "model = sm.OLS(y_train,X)\n",
    "results = model.fit()\n",
    "print(results.summary())"
   ]
  },
  {
   "cell_type": "markdown",
   "id": "373fe391",
   "metadata": {},
   "source": [
    "    Al analizar los resultados de la regresión lineal podemos ver que el impacto que hace el intercepto (la constante) no es estadísticamente significativo al tener un P value de 0.09, superando el margen de tolerancia de 0.05. \n",
    "\n",
    "    Asímismo vemos que el número de escuelas es la variable que tiene una mayor significancia estadística, ya que su t value es mayor al de las demás variables. Este número tiene una magnitud pequeña, y se relaciona de manera positiva con el número de viajes recibido. Es decir que a mayor escuelas, mayor cantidad de viajes recibidos en una comuna. \n",
    "\n",
    "    Con respecto a los hospitales, vemos que es estadísticamente significativo (p value menor a 0.05), además de tener una magnitud mediana. Esta variable se relaciona positivamente con la cantidad de viajes recibidos en una comuna, es decir que a mayor cantidad de hospitales, mayor cantidad de viajes recibidos. \n",
    "\n",
    "    Hablando de las iglesias, esta variable es de una magnitud alta y es estadísticamente significativa. Se relaciona positivamente con los viajes recibidos por comuna, por lo que a mayor cantidad de iglesias, más viajes se reciben en una comuna.\n",
    "    \n",
    "    En lo que respecta a las zonas típicas, esta variable es de una magnitud alta y estadísticamente significativa. Tiene una relación negativa con la cantidad de viajes, así que mientras más zonas típicas se tengan, menos viajes se recibe en la comuna."
   ]
  },
  {
   "cell_type": "code",
   "execution_count": null,
   "id": "47656a96",
   "metadata": {},
   "outputs": [],
   "source": []
  }
 ],
 "metadata": {
  "kernelspec": {
   "display_name": "Python 3",
   "language": "python",
   "name": "python3"
  },
  "language_info": {
   "codemirror_mode": {
    "name": "ipython",
    "version": 3
   },
   "file_extension": ".py",
   "mimetype": "text/x-python",
   "name": "python",
   "nbconvert_exporter": "python",
   "pygments_lexer": "ipython3",
   "version": "3.8.8"
  },
  "vscode": {
   "interpreter": {
    "hash": "014c37e64f0810810447c88ae7e08661be89ce0ee0356b34fd4ad38c08875cad"
   }
  }
 },
 "nbformat": 4,
 "nbformat_minor": 5
}
