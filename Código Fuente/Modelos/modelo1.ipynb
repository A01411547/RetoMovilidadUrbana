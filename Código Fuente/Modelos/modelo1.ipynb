{
 "cells": [
  {
   "cell_type": "code",
   "execution_count": 2,
   "id": "5fd5192f",
   "metadata": {},
   "outputs": [],
   "source": [
    "from sklearn.linear_model import LinearRegression\n",
    "from sklearn.metrics import mean_squared_log_error\n",
    "from sklearn.metrics import mean_squared_error\n",
    "import pandas as pd"
   ]
  },
  {
   "cell_type": "code",
   "execution_count": 3,
   "id": "b9769e37",
   "metadata": {},
   "outputs": [],
   "source": [
    "df = pd.read_csv(\"training_dataset1.csv\")"
   ]
  },
  {
   "cell_type": "code",
   "execution_count": 5,
   "id": "f83bef83",
   "metadata": {},
   "outputs": [],
   "source": [
    "X = df[['Num_escuelas',\n",
    " 'Num_hospitales',\n",
    " 'Num_iglesias',\n",
    " 'Num_zonas_tipicas',\n",
    "   ]]\n",
    "\n",
    "y = df[\"Num_viajes\"]"
   ]
  },
  {
   "cell_type": "code",
   "execution_count": 6,
   "id": "0bcc314e",
   "metadata": {},
   "outputs": [],
   "source": [
    "from sklearn.model_selection import train_test_split\n",
    "\n",
    "X_train, X_test, y_train, y_test = train_test_split(\n",
    "    X, y, test_size=0.15, random_state=42)"
   ]
  },
  {
   "cell_type": "code",
   "execution_count": 7,
   "id": "5fb18f04",
   "metadata": {},
   "outputs": [
    {
     "data": {
      "text/plain": [
       "LinearRegression()"
      ]
     },
     "execution_count": 7,
     "metadata": {},
     "output_type": "execute_result"
    }
   ],
   "source": [
    "linear_model = LinearRegression()\n",
    "linear_model.fit(X, y)"
   ]
  },
  {
   "cell_type": "code",
   "execution_count": 8,
   "id": "ee978cc3",
   "metadata": {},
   "outputs": [
    {
     "name": "stdout",
     "output_type": "stream",
     "text": [
      "Linear RMSLE : 0.693876749693628\n",
      "Linear MAE : 19388.925108526328\n"
     ]
    }
   ],
   "source": [
    "from sklearn.metrics import mean_absolute_error as mae\n",
    "from sklearn.metrics import mean_squared_log_error as msle\n",
    "import numpy as np \n",
    "\n",
    "yfit_linear = pd.DataFrame(linear_model.predict(X_train), index = X_train.index, columns = [\"Num_viajes\"]).clip(0.)\n",
    "\n",
    "ypred_linear = pd.DataFrame(linear_model.predict(X_test), index = X_test.index, columns = [\"Num_viajes\"]).clip(0.)\n",
    "\n",
    "\n",
    "print('Linear RMSLE :', np.sqrt(msle(y_test, ypred_linear)))\n",
    "print('Linear MAE :', mae(y_test, ypred_linear))\n"
   ]
  },
  {
   "cell_type": "markdown",
   "id": "554e0ab7",
   "metadata": {},
   "source": [
    "# Evaluación del modelo\n",
    "\n",
    "Debido a que seguiremos iterando y evolucionando el modelo, las siguientes métricas servirán como benchmarck para saber si la siguiente iteración representa una mejora"
   ]
  },
  {
   "cell_type": "markdown",
   "id": "eb7fdd13",
   "metadata": {},
   "source": [
    "Linear RMSLE : 0.693876749693628\n",
    "\n",
    "Linear MAE : 19388.925108526328"
   ]
  },
  {
   "cell_type": "code",
   "execution_count": null,
   "id": "8f755aec",
   "metadata": {},
   "outputs": [],
   "source": []
  }
 ],
 "metadata": {
  "kernelspec": {
   "display_name": "Python 3",
   "language": "python",
   "name": "python3"
  },
  "language_info": {
   "codemirror_mode": {
    "name": "ipython",
    "version": 3
   },
   "file_extension": ".py",
   "mimetype": "text/x-python",
   "name": "python",
   "nbconvert_exporter": "python",
   "pygments_lexer": "ipython3",
   "version": "3.8.8"
  },
  "vscode": {
   "interpreter": {
    "hash": "014c37e64f0810810447c88ae7e08661be89ce0ee0356b34fd4ad38c08875cad"
   }
  }
 },
 "nbformat": 4,
 "nbformat_minor": 5
}
