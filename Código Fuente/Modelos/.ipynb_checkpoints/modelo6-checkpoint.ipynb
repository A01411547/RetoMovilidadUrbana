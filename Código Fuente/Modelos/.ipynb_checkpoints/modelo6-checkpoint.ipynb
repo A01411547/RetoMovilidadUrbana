{
 "cells": [
  {
   "cell_type": "code",
   "execution_count": 8,
   "id": "5fd5192f",
   "metadata": {},
   "outputs": [],
   "source": [
    "from sklearn.metrics import mean_squared_log_error\n",
    "from sklearn.ensemble import RandomForestRegressor\n",
    "from sklearn.metrics import mean_squared_error\n",
    "import pandas as pd"
   ]
  },
  {
   "cell_type": "code",
   "execution_count": 9,
   "id": "b9769e37",
   "metadata": {},
   "outputs": [],
   "source": [
    "df = pd.read_csv(\"training_dataset3.csv\")"
   ]
  },
  {
   "cell_type": "code",
   "execution_count": 10,
   "id": "f83bef83",
   "metadata": {},
   "outputs": [],
   "source": [
    "X = df[['Num_escuelas',\n",
    " 'Num_hospitales',\n",
    " 'Num_iglesias',\n",
    " 'Num_zonas_tipicas',\n",
    "  \"Hora_llegada_1\",                                          \n",
    "  \"Hora_llegada_2\",\n",
    "  \"Hora_llegada_3\",                                          \n",
    "  \"Hora_llegada_4\",\n",
    "  \"Hora_llegada_5\",                                          \n",
    "  \"Hora_llegada_6\",\n",
    "  \"Hora_llegada_7\",                                          \n",
    "  \"Hora_llegada_8\",\n",
    "  \"Hora_llegada_9\",                                          \n",
    "  \"Hora_llegada_10\",\n",
    "  \"Hora_llegada_11\",                                          \n",
    "  \"Hora_llegada_12\",\n",
    "  \"Hora_llegada_13\",                                          \n",
    "  \"Hora_llegada_14\",\n",
    "  \"Hora_llegada_15\",                                          \n",
    "  \"Hora_llegada_16\",                                         \n",
    "  \"Hora_llegada_17\",                                          \n",
    "  \"Hora_llegada_18\",\n",
    "  \"Hora_llegada_19\",                                          \n",
    "  \"Hora_llegada_20\",\n",
    "  \"Hora_llegada_21\",                                          \n",
    "  \"Hora_llegada_22\",\n",
    "  \"Hora_llegada_23\", ]]\n",
    "\n",
    "y = df[\"Num_viajes\"]"
   ]
  },
  {
   "cell_type": "code",
   "execution_count": 11,
   "id": "0bcc314e",
   "metadata": {},
   "outputs": [],
   "source": [
    "from sklearn.model_selection import train_test_split\n",
    "\n",
    "X_train, X_test, y_train, y_test = train_test_split(\n",
    "    X, y, test_size=0.15, random_state=42)"
   ]
  },
  {
   "cell_type": "code",
   "execution_count": 12,
   "id": "5fb18f04",
   "metadata": {},
   "outputs": [
    {
     "data": {
      "text/plain": [
       "RandomForestRegressor()"
      ]
     },
     "execution_count": 12,
     "metadata": {},
     "output_type": "execute_result"
    }
   ],
   "source": [
    "rforest_model = RandomForestRegressor()\n",
    "rforest_model.fit(X, y)\n"
   ]
  },
  {
   "cell_type": "code",
   "execution_count": 13,
   "id": "ee978cc3",
   "metadata": {},
   "outputs": [
    {
     "name": "stdout",
     "output_type": "stream",
     "text": [
      "Random forest MSLE : 0.2220772809005027\n",
      "Random forest MAE : 80.7109378968254\n"
     ]
    }
   ],
   "source": [
    "from sklearn.metrics import mean_absolute_error as mae\n",
    "from sklearn.metrics import mean_squared_log_error as msle\n",
    "import numpy as np \n",
    "yfit_rforest = pd.DataFrame(rforest_model.predict(X_train), index = X_train.index, columns = [\"Num_viajes\"]).clip(0.)\n",
    "\n",
    "ypred_rforest = pd.DataFrame(rforest_model.predict(X_test), index = X_test.index, columns = [\"Num_viajes\"]).clip(0.)\n",
    "\n",
    "print('Random forest MSLE :', np.sqrt(msle(y_test, ypred_rforest)))\n",
    "print('Random forest MAE :', mae(y_test, ypred_rforest))"
   ]
  },
  {
   "cell_type": "code",
   "execution_count": 14,
   "id": "afc86d0f",
   "metadata": {},
   "outputs": [
    {
     "name": "stdout",
     "output_type": "stream",
     "text": [
      "Random Forest RMSLE : 0.20947394293561739\n",
      "Random forest mae : 78.36280257936508\n"
     ]
    }
   ],
   "source": [
    "y_train_rforest = rforest_model.predict(X_train)\n",
    "\n",
    "print('Random Forest RMSLE :', np.sqrt(msle(y_train, y_train_rforest)))\n",
    "print('Random forest mae :', mae(y_train, y_train_rforest))"
   ]
  },
  {
   "cell_type": "code",
   "execution_count": 15,
   "id": "96440c18",
   "metadata": {},
   "outputs": [],
   "source": [
    "dataframe = pd.DataFrame()"
   ]
  },
  {
   "cell_type": "code",
   "execution_count": 16,
   "id": "cb270113",
   "metadata": {},
   "outputs": [],
   "source": [
    "dataframe['Num_viajes'] = y_test"
   ]
  },
  {
   "cell_type": "code",
   "execution_count": 17,
   "id": "6024608c",
   "metadata": {},
   "outputs": [],
   "source": [
    "dataframe['Num_viajes_p'] = ypred_rforest"
   ]
  },
  {
   "cell_type": "code",
   "execution_count": 18,
   "id": "6e3dfee0",
   "metadata": {},
   "outputs": [],
   "source": [
    "dataframe['dif'] = abs(dataframe['Num_viajes'] - dataframe['Num_viajes_p'])"
   ]
  },
  {
   "cell_type": "markdown",
   "id": "fa6f06d6",
   "metadata": {},
   "source": [
    "# Evaluación del modelo\n",
    "\n",
    "A continuación, calcularemos el porcentaje promedio de desviación entre la predicción y el valor real"
   ]
  },
  {
   "cell_type": "code",
   "execution_count": 19,
   "id": "c0f9be71",
   "metadata": {},
   "outputs": [],
   "source": [
    "import math"
   ]
  },
  {
   "cell_type": "code",
   "execution_count": 20,
   "id": "6b1469d7",
   "metadata": {},
   "outputs": [],
   "source": [
    "dataframe['Num_viajes_p'] =  dataframe['Num_viajes_p'].apply(lambda x: math.ceil(x))"
   ]
  },
  {
   "cell_type": "code",
   "execution_count": 21,
   "id": "767971ff",
   "metadata": {},
   "outputs": [],
   "source": [
    "dataframe[\"Dif_perc\"] =  dataframe[\"dif\"] / dataframe[\"Num_viajes\"] *100"
   ]
  },
  {
   "cell_type": "code",
   "execution_count": 22,
   "id": "ca47dcf7",
   "metadata": {},
   "outputs": [
    {
     "data": {
      "text/plain": [
       "15.529259225860947"
      ]
     },
     "execution_count": 22,
     "metadata": {},
     "output_type": "execute_result"
    }
   ],
   "source": [
    "dataframe[\"Dif_perc\"].mean()"
   ]
  },
  {
   "cell_type": "markdown",
   "id": "a15c581b",
   "metadata": {},
   "source": [
    "Vemos que tenemos una desviación media de 15%, es decir, en promedio esta será la diferencia entre los viajes que se predicen y los que ocurren en realidad"
   ]
  },
  {
   "cell_type": "markdown",
   "id": "554e0ab7",
   "metadata": {},
   "source": [
    "# Evaluación del modelo\n",
    "\n",
    "Para evaluar el modelo, revisaremos el % de error utilizando MAE"
   ]
  },
  {
   "cell_type": "markdown",
   "id": "3fc91993",
   "metadata": {},
   "source": [
    "### Training error"
   ]
  },
  {
   "cell_type": "code",
   "execution_count": 23,
   "id": "d8e54bab",
   "metadata": {},
   "outputs": [
    {
     "name": "stdout",
     "output_type": "stream",
     "text": [
      "The % of error in training is 14.987354087809797\n"
     ]
    }
   ],
   "source": [
    "dataframe = pd.DataFrame()\n",
    "dataframe['Num_viajes'] = y_train\n",
    "dataframe['Num_viajes_p'] = yfit_rforest\n",
    "dataframe['dif'] = abs(dataframe['Num_viajes'] - dataframe['Num_viajes_p'])\n",
    "import math\n",
    "dataframe['Num_viajes_p'] =  dataframe['Num_viajes_p'].apply(lambda x: math.ceil(x))\n",
    "dataframe[\"Dif_perc\"] =  dataframe[\"dif\"] / dataframe[\"Num_viajes\"] *100\n",
    "print(\"The % of error in training is\", dataframe[\"Dif_perc\"].mean())\n"
   ]
  },
  {
   "cell_type": "markdown",
   "id": "604f22c1",
   "metadata": {},
   "source": [
    "### Testing error"
   ]
  },
  {
   "cell_type": "code",
   "execution_count": 24,
   "id": "6ebaef7a",
   "metadata": {},
   "outputs": [
    {
     "name": "stdout",
     "output_type": "stream",
     "text": [
      "The % of error in test is 15.529259225860947\n"
     ]
    }
   ],
   "source": [
    "dataframe = pd.DataFrame()\n",
    "dataframe['Num_viajes'] = y_test\n",
    "dataframe['Num_viajes_p'] = ypred_rforest\n",
    "dataframe['dif'] = abs(dataframe['Num_viajes'] - dataframe['Num_viajes_p'])\n",
    "import math\n",
    "dataframe['Num_viajes_p'] =  dataframe['Num_viajes_p'].apply(lambda x: math.ceil(x))\n",
    "dataframe[\"Dif_perc\"] =  dataframe[\"dif\"] / dataframe[\"Num_viajes\"] *100\n",
    "print(\"The % of error in test is\", dataframe[\"Dif_perc\"].mean())\n"
   ]
  },
  {
   "cell_type": "code",
   "execution_count": null,
   "id": "a69f63f1",
   "metadata": {},
   "outputs": [],
   "source": []
  }
 ],
 "metadata": {
  "kernelspec": {
   "display_name": "Python 3",
   "language": "python",
   "name": "python3"
  },
  "language_info": {
   "codemirror_mode": {
    "name": "ipython",
    "version": 3
   },
   "file_extension": ".py",
   "mimetype": "text/x-python",
   "name": "python",
   "nbconvert_exporter": "python",
   "pygments_lexer": "ipython3",
   "version": "3.8.8"
  },
  "vscode": {
   "interpreter": {
    "hash": "2a4d9486dc7c78a56b0f22ff520a56bedf0c100f2b3e3f266ba142c5b1d5f74c"
   }
  }
 },
 "nbformat": 4,
 "nbformat_minor": 5
}
