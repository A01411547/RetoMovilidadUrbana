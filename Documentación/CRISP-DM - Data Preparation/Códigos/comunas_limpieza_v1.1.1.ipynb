{
 "cells": [
  {
   "cell_type": "code",
   "execution_count": 2,
   "metadata": {},
   "outputs": [],
   "source": [
    "import numpy as np\n",
    "import pandas as pd\n",
    "import os"
   ]
  },
  {
   "cell_type": "code",
   "execution_count": 3,
   "metadata": {},
   "outputs": [],
   "source": [
    "os.chdir(\"C:/Users/josep/Documents/Escuela/Materias/Ciencia de datos II/Reto Principal\")"
   ]
  },
  {
   "cell_type": "code",
   "execution_count": 4,
   "metadata": {},
   "outputs": [],
   "source": [
    "df_transfor = pd.read_csv(\"data_comunas_copy.csv\")"
   ]
  },
  {
   "cell_type": "code",
   "execution_count": 5,
   "metadata": {},
   "outputs": [],
   "source": [
    "df_transfor.drop(\"address\", axis=1, inplace=True)"
   ]
  },
  {
   "cell_type": "code",
   "execution_count": 6,
   "metadata": {},
   "outputs": [
    {
     "data": {
      "text/html": [
       "<div>\n",
       "<style scoped>\n",
       "    .dataframe tbody tr th:only-of-type {\n",
       "        vertical-align: middle;\n",
       "    }\n",
       "\n",
       "    .dataframe tbody tr th {\n",
       "        vertical-align: top;\n",
       "    }\n",
       "\n",
       "    .dataframe thead th {\n",
       "        text-align: right;\n",
       "    }\n",
       "</style>\n",
       "<table border=\"1\" class=\"dataframe\">\n",
       "  <thead>\n",
       "    <tr style=\"text-align: right;\">\n",
       "      <th></th>\n",
       "      <th>Unnamed: 0</th>\n",
       "      <th>bts_id</th>\n",
       "      <th>lat</th>\n",
       "      <th>lon</th>\n",
       "      <th>full_address</th>\n",
       "    </tr>\n",
       "  </thead>\n",
       "  <tbody>\n",
       "    <tr>\n",
       "      <th>0</th>\n",
       "      <td>0</td>\n",
       "      <td>SULCI</td>\n",
       "      <td>-33.5401</td>\n",
       "      <td>-70.6660</td>\n",
       "      <td>La Cisterna</td>\n",
       "    </tr>\n",
       "    <tr>\n",
       "      <th>1</th>\n",
       "      <td>1</td>\n",
       "      <td>CCA5A</td>\n",
       "      <td>-33.4180</td>\n",
       "      <td>-70.6059</td>\n",
       "      <td>Providencia</td>\n",
       "    </tr>\n",
       "    <tr>\n",
       "      <th>2</th>\n",
       "      <td>2</td>\n",
       "      <td>DBZAF</td>\n",
       "      <td>-33.4285</td>\n",
       "      <td>-70.6494</td>\n",
       "      <td>Recoleta</td>\n",
       "    </tr>\n",
       "    <tr>\n",
       "      <th>3</th>\n",
       "      <td>3</td>\n",
       "      <td>CCA1C</td>\n",
       "      <td>-33.4180</td>\n",
       "      <td>-70.6059</td>\n",
       "      <td>Providencia</td>\n",
       "    </tr>\n",
       "    <tr>\n",
       "      <th>4</th>\n",
       "      <td>4</td>\n",
       "      <td>MCPPF</td>\n",
       "      <td>-33.4257</td>\n",
       "      <td>-70.6142</td>\n",
       "      <td>Providencia</td>\n",
       "    </tr>\n",
       "  </tbody>\n",
       "</table>\n",
       "</div>"
      ],
      "text/plain": [
       "   Unnamed: 0 bts_id      lat      lon full_address\n",
       "0           0  SULCI -33.5401 -70.6660  La Cisterna\n",
       "1           1  CCA5A -33.4180 -70.6059  Providencia\n",
       "2           2  DBZAF -33.4285 -70.6494     Recoleta\n",
       "3           3  CCA1C -33.4180 -70.6059  Providencia\n",
       "4           4  MCPPF -33.4257 -70.6142  Providencia"
      ]
     },
     "execution_count": 6,
     "metadata": {},
     "output_type": "execute_result"
    }
   ],
   "source": [
    "df_transfor.head()"
   ]
  },
  {
   "cell_type": "code",
   "execution_count": 7,
   "metadata": {},
   "outputs": [
    {
     "name": "stdout",
     "output_type": "stream",
     "text": [
      "['Cerrillos', 'Cerro Navia', 'Conchalí', 'El Bosque', 'Estación Central', 'Huechuraba', 'Independencia', 'La Cisterna', 'La Florida', 'La Granja', 'La Pintana', 'La Reina', 'Las Condes', 'Lo Barnechea', 'Lo Espejo', 'Lo Prado', 'Macul', 'Maipú', 'Ñuñoa', 'Pedro Aguirre Cerda', 'Peñalolén', 'Providencia', 'Pudahuel', 'Quilicura', 'Quinta Normal', 'Recoleta', 'Renca', 'San Joaquín', 'San Miguel', 'San Ramón', 'Santiago', 'Vitacura', 'Puente Alto', 'San José de Maipo', 'Pirque', 'Talagante', 'El Monte', 'Isla de Maipo', 'Padre Hurtado', 'Peñaflor', 'San Bernardo', 'Calera de Tango', 'Buin', 'Paine', 'Colina', 'Lampa', 'Til-Til', 'Alhué', 'Curacaví', 'María Pinto', 'Melipilla', 'San Pedro']\n"
     ]
    }
   ],
   "source": [
    "comunas=[\"Cerrillos\",\"Cerro Navia\",\"Conchalí\",\"El Bosque\",\"Estación Central\",\"Huechuraba\",\"Independencia\",\"La Cisterna\",\"La Florida\",\n",
    "         \"La Granja\",\"La Pintana\",\"La Reina\",\"Las Condes\",\"Lo Barnechea\",\"Lo Espejo\",\"Lo Prado\",\"Macul\",\"Maipú\",\"Ñuñoa\",\"Pedro Aguirre Cerda\",\n",
    "         \"Peñalolén\",\"Providencia\",\"Pudahuel\",\"Quilicura\",\"Quinta Normal\",\"Recoleta\",\"Renca\",\"San Joaquín\",\"San Miguel\",\"San Ramón\",\"Santiago\",\"Vitacura\",\n",
    "         \"Puente Alto\",\"San José de Maipo\",\"Pirque\",\"Talagante\",\"El Monte\",\"Isla de Maipo\",\"Padre Hurtado\",\"Peñaflor\",\"San Bernardo\",\"Calera de Tango\",\n",
    "         \"Buin\",\"Paine\",\"Colina\",\"Lampa\",\"Til-Til\",\"Alhué\",\"Curacaví\",\"María Pinto\",\"Melipilla\",\"San Pedro\"]\n",
    "\n",
    "print(comunas)\n",
    "\n",
    "comunas_2 = comunas.copy()"
   ]
  },
  {
   "cell_type": "code",
   "execution_count": 8,
   "metadata": {},
   "outputs": [
    {
     "name": "stdout",
     "output_type": "stream",
     "text": [
      "['Cerrillos', 'Cerro Navia', 'Conchali', 'El Bosque', 'Estacion Central', 'Huechuraba', 'Independencia', 'La Cisterna', 'La Florida', 'La Granja', 'La Pintana', 'La Reina', 'Las Condes', 'Lo Barnechea', 'Lo Espejo', 'Lo Prado', 'Macul', 'Maipu', 'Nunoa', 'Pedro Aguirre Cerda', 'Penalolen', 'Providencia', 'Pudahuel', 'Quilicura', 'Quinta Normal', 'Recoleta', 'Renca', 'San Joaquin', 'San Miguel', 'San Ramon', 'Santiago', 'Vitacura', 'Puente Alto', 'San Jose de Maipo', 'Pirque', 'Talagante', 'El Monte', 'Isla de Maipo', 'Padre Hurtado', 'Penaflor', 'San Bernardo', 'Calera de Tango', 'Buin', 'Paine', 'Colina', 'Lampa', 'Til-Til', 'Alhue', 'Curacavi', 'Maria Pinto', 'Melipilla', 'San Pedro']\n"
     ]
    }
   ],
   "source": [
    "# a =['á','é','í','ó','ú','ü','ñ','Á','É','Í','Ó','Ú','Ü','Ñ']\n",
    "# b =['a','e','i','o','u','u','n','A','E','I','O','U','U','N']\n",
    "a =[['á','a'],['é','e'],['í','i'],['ó','o'],['ú','u'],['ü','u'],['ñ','n'],['Á','A'],['É','E'],['Í','I'],['Ó','O'],['Ú','U'],['Ü','U'],['Ñ','N']]\n",
    "sub = dict(a)\n",
    "for key, val in sub.items():\n",
    "    for idx, ele in enumerate(comunas_2):\n",
    "        if key in ele:\n",
    "            comunas_2[idx] = ele.replace(key, val)\n",
    "\n",
    "print(comunas_2)\n"
   ]
  },
  {
   "cell_type": "code",
   "execution_count": 11,
   "metadata": {},
   "outputs": [],
   "source": [
    "df_transfor = df_transfor.replace(comunas,comunas_2)"
   ]
  },
  {
   "cell_type": "code",
   "execution_count": 12,
   "metadata": {},
   "outputs": [
    {
     "name": "stdout",
     "output_type": "stream",
     "text": [
      "      Unnamed: 0 bts_id      lat      lon   full_address\n",
      "0              0  SULCI -33.5401 -70.6660    La Cisterna\n",
      "1              1  CCA5A -33.4180 -70.6059    Providencia\n",
      "2              2  DBZAF -33.4285 -70.6494       Recoleta\n",
      "3              3  CCA1C -33.4180 -70.6059    Providencia\n",
      "4              4  MCPPF -33.4257 -70.6142    Providencia\n",
      "...          ...    ...      ...      ...            ...\n",
      "1866        1866  L3N10 -33.4065 -70.6613  Independencia\n",
      "1867        1867  L3N11 -33.3974 -70.6695       Conchali\n",
      "1868        1868  FBCA1 -33.4378 -70.6571       Santiago\n",
      "1869        1869  FBCA2 -33.4378 -70.6571       Santiago\n",
      "1870        1870  MLPIF -33.4145 -70.5971     Las Condes\n",
      "\n",
      "[1871 rows x 5 columns]\n"
     ]
    }
   ],
   "source": [
    "print(df_transfor)"
   ]
  },
  {
   "cell_type": "code",
   "execution_count": 13,
   "metadata": {},
   "outputs": [],
   "source": [
    "df_transfor.to_csv(\"lista_comunas_limpias.csv\")"
   ]
  },
  {
   "cell_type": "code",
   "execution_count": 16,
   "metadata": {},
   "outputs": [],
   "source": [
    "df_principal = pd.read_csv(\"20210101_RM_vf.csv\")"
   ]
  },
  {
   "cell_type": "code",
   "execution_count": 19,
   "metadata": {},
   "outputs": [],
   "source": [
    "df_principal['comunas'] = \"\""
   ]
  },
  {
   "cell_type": "code",
   "execution_count": 20,
   "metadata": {},
   "outputs": [
    {
     "data": {
      "text/html": [
       "<div>\n",
       "<style scoped>\n",
       "    .dataframe tbody tr th:only-of-type {\n",
       "        vertical-align: middle;\n",
       "    }\n",
       "\n",
       "    .dataframe tbody tr th {\n",
       "        vertical-align: top;\n",
       "    }\n",
       "\n",
       "    .dataframe thead th {\n",
       "        text-align: right;\n",
       "    }\n",
       "</style>\n",
       "<table border=\"1\" class=\"dataframe\">\n",
       "  <thead>\n",
       "    <tr style=\"text-align: right;\">\n",
       "      <th></th>\n",
       "      <th>PHONE_ID</th>\n",
       "      <th>timestamp</th>\n",
       "      <th>bts_id</th>\n",
       "      <th>lat</th>\n",
       "      <th>lon</th>\n",
       "      <th>comunas</th>\n",
       "    </tr>\n",
       "  </thead>\n",
       "  <tbody>\n",
       "    <tr>\n",
       "      <th>0</th>\n",
       "      <td>668f7c17a62c937a75f762c7198a7fc98ed4e0e0c64ce0...</td>\n",
       "      <td>2021-01-01T17:22:55.000-03:00</td>\n",
       "      <td>CEMG1</td>\n",
       "      <td>-33.3913</td>\n",
       "      <td>-70.6222</td>\n",
       "      <td></td>\n",
       "    </tr>\n",
       "    <tr>\n",
       "      <th>1</th>\n",
       "      <td>780fc36e9a2bc99de12adb740e5e82b3cabba75c1ecd23...</td>\n",
       "      <td>2021-01-01T17:10:19.000-03:00</td>\n",
       "      <td>CEMG1</td>\n",
       "      <td>-33.3913</td>\n",
       "      <td>-70.6222</td>\n",
       "      <td></td>\n",
       "    </tr>\n",
       "    <tr>\n",
       "      <th>2</th>\n",
       "      <td>b3c52936d4f8494dae9d1158ce76951e62413d511f5fe2...</td>\n",
       "      <td>2021-01-01T00:35:04.000-03:00</td>\n",
       "      <td>CEMG1</td>\n",
       "      <td>-33.3913</td>\n",
       "      <td>-70.6222</td>\n",
       "      <td></td>\n",
       "    </tr>\n",
       "    <tr>\n",
       "      <th>3</th>\n",
       "      <td>a4ab622fe4c0de513c389ab475cee4ad5b5d27e07e32d9...</td>\n",
       "      <td>2021-01-01T17:22:38.000-03:00</td>\n",
       "      <td>CEMG1</td>\n",
       "      <td>-33.3913</td>\n",
       "      <td>-70.6222</td>\n",
       "      <td></td>\n",
       "    </tr>\n",
       "    <tr>\n",
       "      <th>4</th>\n",
       "      <td>77d8edaa34e7ac318ef33541957e9f33826dff24217636...</td>\n",
       "      <td>2021-01-01T17:11:12.000-03:00</td>\n",
       "      <td>CEMG1</td>\n",
       "      <td>-33.3913</td>\n",
       "      <td>-70.6222</td>\n",
       "      <td></td>\n",
       "    </tr>\n",
       "  </tbody>\n",
       "</table>\n",
       "</div>"
      ],
      "text/plain": [
       "                                            PHONE_ID  \\\n",
       "0  668f7c17a62c937a75f762c7198a7fc98ed4e0e0c64ce0...   \n",
       "1  780fc36e9a2bc99de12adb740e5e82b3cabba75c1ecd23...   \n",
       "2  b3c52936d4f8494dae9d1158ce76951e62413d511f5fe2...   \n",
       "3  a4ab622fe4c0de513c389ab475cee4ad5b5d27e07e32d9...   \n",
       "4  77d8edaa34e7ac318ef33541957e9f33826dff24217636...   \n",
       "\n",
       "                       timestamp bts_id      lat      lon comunas  \n",
       "0  2021-01-01T17:22:55.000-03:00  CEMG1 -33.3913 -70.6222          \n",
       "1  2021-01-01T17:10:19.000-03:00  CEMG1 -33.3913 -70.6222          \n",
       "2  2021-01-01T00:35:04.000-03:00  CEMG1 -33.3913 -70.6222          \n",
       "3  2021-01-01T17:22:38.000-03:00  CEMG1 -33.3913 -70.6222          \n",
       "4  2021-01-01T17:11:12.000-03:00  CEMG1 -33.3913 -70.6222          "
      ]
     },
     "execution_count": 20,
     "metadata": {},
     "output_type": "execute_result"
    }
   ],
   "source": [
    "df_principal.head()"
   ]
  },
  {
   "cell_type": "code",
   "execution_count": null,
   "metadata": {},
   "outputs": [],
   "source": []
  }
 ],
 "metadata": {
  "kernelspec": {
   "display_name": "Python 3.10.3 64-bit",
   "language": "python",
   "name": "python3"
  },
  "language_info": {
   "codemirror_mode": {
    "name": "ipython",
    "version": 3
   },
   "file_extension": ".py",
   "mimetype": "text/x-python",
   "name": "python",
   "nbconvert_exporter": "python",
   "pygments_lexer": "ipython3",
   "version": "3.10.3"
  },
  "orig_nbformat": 4,
  "vscode": {
   "interpreter": {
    "hash": "93028d5495cf3fdad3791cfb45569ed1ffef5b94a8e8037ba1bdda77d837769f"
   }
  }
 },
 "nbformat": 4,
 "nbformat_minor": 2
}
